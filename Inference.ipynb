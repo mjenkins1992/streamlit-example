{
 "cells": [
  {
   "cell_type": "code",
   "execution_count": 1,
   "id": "478af111",
   "metadata": {},
   "outputs": [
    {
     "name": "stderr",
     "output_type": "stream",
     "text": [
      "[nltk_data] Downloading package punkt to /home/ubuntu/nltk_data...\n",
      "[nltk_data]   Package punkt is already up-to-date!\n",
      "[nltk_data] Downloading package wordnet to /home/ubuntu/nltk_data...\n",
      "[nltk_data]   Package wordnet is already up-to-date!\n",
      "[nltk_data] Downloading package omw-1.4 to /home/ubuntu/nltk_data...\n",
      "[nltk_data]   Package omw-1.4 is already up-to-date!\n"
     ]
    }
   ],
   "source": [
    "from sklearn.model_selection import train_test_split\n",
    "from transformers import BertModel, BertConfig, BertTokenizer, AutoTokenizer\n",
    "import datasets\n",
    "from datasets import Dataset\n",
    "import pandas as pd\n",
    "import tensorflow as tf\n",
    "import numpy as np\n",
    "import nltk\n",
    "import nltk.translate.meteor_score as meteor\n",
    "from nltk import word_tokenize\n",
    "nltk.download('punkt')\n",
    "nltk.download('wordnet')\n",
    "nltk.download('omw-1.4')\n",
    "import keras\n",
    "#import wandb\n",
    "import torch\n",
    "from torch.utils.data import TensorDataset, DataLoader\n",
    "import pickle\n",
    "from transformers import BigBirdPegasusForConditionalGeneration, TFTrainer, TFTrainingArguments, AutoModelForSeq2SeqLM, Seq2SeqTrainingArguments, Seq2SeqTrainer, Trainer, TrainingArguments, BartForConditionalGeneration, DataCollatorForSeq2Seq"
   ]
  },
  {
   "cell_type": "code",
   "execution_count": 2,
   "id": "0e30e1c6",
   "metadata": {},
   "outputs": [],
   "source": [
    "import os\n",
    "os.environ['TF_CPP_MIN_LOG_LEVEL'] = '2'"
   ]
  },
  {
   "cell_type": "code",
   "execution_count": 3,
   "id": "77515e07",
   "metadata": {},
   "outputs": [
    {
     "data": {
      "text/plain": [
       "True"
      ]
     },
     "execution_count": 3,
     "metadata": {},
     "output_type": "execute_result"
    }
   ],
   "source": [
    "torch.cuda\n",
    "torch.cuda.is_available()"
   ]
  },
  {
   "cell_type": "code",
   "execution_count": 4,
   "id": "d3a27d86",
   "metadata": {},
   "outputs": [],
   "source": [
    "# cuda issues with this model\n",
    "#path = \"/home/ubuntu/Documents/OliverVinzelberg/led_large_16384_pubmed_CTS_untouched_blind_bestsofar_3072_1024_2bs_20e\"\n",
    "\n",
    "# this model works\n",
    "path = \"/home/ubuntu/Documents/OliverVinzelberg/led_large_16384_pubmed_CTS_untouched_3072_1024_2bs_20e\"\n",
    "model = AutoModelForSeq2SeqLM.from_pretrained(path, local_files_only=True)\n",
    "model.cuda()\n",
    "\n",
    "tokenizer = AutoTokenizer.from_pretrained(path, local_files_only=True)"
   ]
  },
  {
   "cell_type": "code",
   "execution_count": 5,
   "id": "862193ef",
   "metadata": {},
   "outputs": [],
   "source": [
    "def generate_sum(data):\n",
    "    to_pred = tokenizer(data, padding=\"max_length\", max_length=4096, return_tensors=\"pt\", truncation=True)\n",
    "    #to_pred = tokenizer(data, padding=\"max_length\", max_length=3072, return_tensors=\"pt\", truncation=True)\n",
    "    input_ids=to_pred[\"input_ids\"].cuda()\n",
    "    attention_mask=to_pred[\"attention_mask\"].cuda()\n",
    "    #global attention on special tokens\n",
    "    global_attention_mask = torch.zeros_like(attention_mask)\n",
    "    global_attention_mask[:, 0] = 1\n",
    "    \n",
    "    predicted_ids = model.generate(input_ids, attention_mask=attention_mask, global_attention_mask=global_attention_mask)\n",
    "    \n",
    "    return tokenizer.batch_decode(predicted_ids, skip_special_tokens=True)"
   ]
  },
  {
   "cell_type": "code",
   "execution_count": 6,
   "id": "c875e20f",
   "metadata": {},
   "outputs": [],
   "source": [
    "with open('/home/ubuntu/Documents/OliverVinzelberg/pickle_files/CTS_data_processed_removed_backslashN.pkl', 'rb') as handle:\n",
    "    df_cts = pickle.load(handle)\n",
    "    \n",
    "cts_dataset = Dataset.from_pandas(df_cts[[\"text\", \"summary\"]])"
   ]
  },
  {
   "cell_type": "code",
   "execution_count": 7,
   "id": "fc33952f",
   "metadata": {
    "scrolled": true
   },
   "outputs": [
    {
     "name": "stdout",
     "output_type": "stream",
     "text": [
      "EU Clinical Trials Register Clinical trial results: A Phase 2, 2-Stage, 2-Cohort Study of Talazoparib (BMN 673) Administered to Germline BRCA Mutation Subjects with Locally Advanced and/or Metastatic Breast Cancer Summary EudraCT number 2013-003076-12 Trial protocol GB ES Global end of trial date 31 October 2018 Results information Result version number v2 (current) This version publication date 07 September 2019 First version publication date 17 September 2017 Version creation reason Trial information Trial identification Sponsor protocol code 673-201 Additional study identifiers ISRCTN number - ClinicalTrials.gov id (NCT number) NCT02034916 WHO universal trial number (UTN) - Other trial identifiers Alias Study Number: C3441008 Notes: Sponsors Sponsor organisation name Pfizer Inc. Sponsor organisation address 235 E 42nd Street, New York, United States, NY 10017 Public contact Pfizer ClinicalTrials.gov Call Center, Pfizer Inc., 001 8007181021, ClinicalTrials.gov_Inquiries@pfizer.com Scientific contact Pfizer ClinicalTrials.gov Call Center, Pfizer Inc., 001 8007181021, ClinicalTrials.gov_Inquiries@pfizer.com Notes: Paediatric regulatory details Is trial part of an agreed paediatric No investigation plan (PIP) Does article 45 of REGULATION (EC) No No 1901/2006 apply to this trial? Does article 46 of REGULATION (EC) No No 1901/2006 apply to this trial? Notes: Results analysis stage Analysis stage Final Clinical trial results 2013-003076-12 version 2 EU-CTR publication date: 07 September 2019 Page 1 of 31 Date of interim/final analysis 02 May 2019 Is this the analysis of the primary No completion data? Global end of trial reached? Yes Global end of trial date 31 October 2018 Was the trial ended prematurely? No Notes: General information about the trial Main objective of the trial: To determine the objective response rate (ORR) for each cohort treated with talazoparib as a single agent. The ORR would be based on confirmed responses as defined by Response Evaluation Criteria in Solid Tumors (RECIST). Protection of trial subjects: The study was in compliance with the ethical principles derived from the Declaration of Helsinki and in compliance with all International Council for Harmonization (ICH) Good Clinical Practice (GCP) Guidelines. All the local regulatory requirements pertinent to safety of trials subjects were followed. Background therapy: - Evidence for comparator: - Actual start date of recruitment 13 December 2013 Long term follow-up planned No Independent data monitoring committee No (IDMC) involvement? Notes: Population of trial subjects Subjects enrolled per country Country: Number of subjects enrolled Spain: 11 Country: Number of subjects enrolled United Kingdom: 15 Country: Number of subjects enrolled United States: 25 Country: Number of subjects enrolled France: 15 Country: Number of subjects enrolled Germany: 18 Worldwide total number of subjects 84 EEA total number of subjects 59 Notes: Subjects enrolled per age group In utero 0 Preterm newborn - gestational age < 37 0 wk Newborns (0-27 days) 0 Infants and toddlers (28 days-23 0 months) Children (2-11 years) 0 Adolescents (12-17 years) 0 Adults (18-64 years) 70 From 65 to 84 years 14 85 years and over 0 Clinical trial results 2013-003076-12 version 2 EU-CTR publication date: 07 September 2019 Page 2 of 31 Subject disposition Recruitment Recruitment details: - Pre-assignment Screening details: In this study, enrollment of subjects was to be done in 2 stages for each of the 2 cohorts. Sufficient responses in each cohort were observed such that enrollment could proceed to Stage 2 for both cohorts. However, due to Sponsor decision, enrollment in the overall trial was terminated early. Period 1 Period 1 title Overall Study (overall period) Is this the baseline period? Yes Allocation method Not applicable Blinding used Not blinded Arms Are arms mutually exclusive? Yes Arm title Cohort 1: Talazoparib 1 mg Arm description: Subjects who responded to a prior platinum-containing treatment for metastatic breast cancer, received talazoparib 1.0 milligram (mg) orally, once daily for 21 days in repeated 21-day cycles until disease progression, occurrence of unacceptable toxicity or permanent treatment discontinuation. Subjects were followed-up for survival and new anticancer treatment at every 60 days after the last dose of study drug for the first year, every 90 days thereafter. Arm type Experimental Investigational medicinal product name Talazoparib Investigational medicinal product code Other name BMN 673, MDV3800 Pharmaceutical forms Capsule Routes of administration Oral use Dosage and administration details: Talazoparib 1 mg was administered orally, once daily. Arm title Cohort 2: Talazoparib 1 mg Arm description: Subjects with more than 2 prior non-platinum chemotherapy treatment for metastatic breast cancer, received talazoparib 1.0 mg orally, once daily for 21 days in repeated 21-day cycles until disease progression, occurrence of unacceptable toxicity or permanent treatment discontinuation. Prior adjuvant or neo-adjuvant therapy with a platinum was allowed if first disease recurrence was for more than 6 months since last dose of adjuvant/neo-adjuvant platinum treatment. Subjects were followed-up for survival and new anticancer treatment at every 60 days after the last dose of study drug for the first year, every 90 days thereafter. Arm type Experimental Investigational medicinal product name Talazoparib Investigational medicinal product code Other name BMN 673, MDV3800 Pharmaceutical forms Capsule Routes of administration Oral use Dosage and administration details: Talazoparib 1 mg was administered orally, once daily. Clinical trial results 2013-003076-12 version 2 EU-CTR publication date: 07 September 2019 Page 3 of 31 Number of subjects in period 1 Cohort 1: Cohort 2: Talazoparib 1 mg Talazoparib 1 mg Started 49 35 Treated 48 35 Completed 0 0 Not completed 49 35 Death 39 28 Study terminated by sponsor 4 5 Consent withdrawn by subject 2 1 Lost to follow-up 4 1 Clinical trial results 2013-003076-12 version 2 EU-CTR publication date: 07 September 2019 Page 4 of 31 Baseline characteristics Reporting groups Reporting group title Cohort 1: Talazoparib 1 mg Reporting group description: Subjects who responded to a prior platinum-containing treatment for metastatic breast cancer, received talazoparib 1.0 milligram (mg) orally, once daily for 21 days in repeated 21-day cycles until disease progression, occurrence of unacceptable toxicity or permanent treatment discontinuation. Subjects were followed-up for survival and new anticancer treatment at every 60 days after the last dose of study drug for the first year, every 90 days thereafter. Reporting group title Cohort 2: Talazoparib 1 mg Reporting group description: Subjects with more than 2 prior non-platinum chemotherapy treatment for metastatic breast cancer, received talazoparib 1.0 mg orally, once daily for 21 days in repeated 21-day cycles until disease progression, occurrence of unacceptable toxicity or permanent treatment discontinuation. Prior adjuvant or neo-adjuvant therapy with a platinum was allowed if first disease recurrence was for more than 6 months since last dose of adjuvant/neo-adjuvant platinum treatment. Subjects were followed-up for survival and new anticancer treatment at every 60 days after the last dose of study drug for the first year, every 90 days thereafter. Reporting group values Cohort 1: Cohort 2: Total Talazoparib 1 mg Talazoparib 1 mg Number of subjects 49 35 84 Age categorical Units: Subjects In utero 0 0 0 Preterm newborn infants 0 0 0 (gestational age < 37 wks) Newborns (0-27 days) 0 0 0 Infants and toddlers (28 days-23 0 0 0 months) Children (2-11 years) 0 0 0 Adolescents (12-17 years) 0 0 0 Adults (18-64 years) 42 28 70 From 65-84 years 7 7 14 85 years and over 0 0 0 Age Continuous Units: years arithmetic mean 50.1 53.4 standard deviation ± 11.48 ± 11.05 - Gender, Male/Female Units: Subjects Female 48 34 82 Male 1 1 2 Subject analysis sets Subject analysis set title All Subjects: Talazoparib 1 mg Subject analysis set type Sub-group analysis Subject analysis set description: Subjects, who either responded to a prior platinum-containing treatment for metastatic breast cancer or had more than 2 prior non-platinum chemotherapy treatment for metastatic breast cancer, received talazoparib 1.0 mg orally, once daily for 21 days in repeated 21-day cycles until disease progression, occurrence of unacceptable toxicity or permanent treatment discontinuation. For the subjects with non- Clinical trial results 2013-003076-12 version 2 EU-CTR publication date: 07 September 2019 Page 5 of 31 platinum chemotherapy, prior adjuvant or neo-adjuvant therapy with a platinum was allowed if first disease recurrence was for more than 6 months since last dose of adjuvant/neo-adjuvant platinum treatment. Subjects were followed-up for survival and new anticancer treatment at every 60 days after the last dose of study drug for the first year, every 90 days thereafter. Reporting group values All Subjects: Talazoparib 1 mg Number of subjects 83 Age categorical Units: Subjects In utero Preterm newborn infants (gestational age < 37 wks) Newborns (0-27 days) Infants and toddlers (28 days-23 months) Children (2-11 years) Adolescents (12-17 years) Adults (18-64 years) From 65-84 years 85 years and over Age Continuous Units: years arithmetic mean 51.5 standard deviation ± 11.35 Gender, Male/Female Units: Subjects Female Male Clinical trial results 2013-003076-12 version 2 EU-CTR publication date: 07 September 2019 Page 6 of 31 End points End points reporting groups Reporting group title Cohort 1: Talazoparib 1 mg Reporting group description: Subjects who responded to a prior platinum-containing treatment for metastatic breast cancer, received talazoparib 1.0 milligram (mg) orally, once daily for 21 days in repeated 21-day cycles until disease progression, occurrence of unacceptable toxicity or permanent treatment discontinuation. Subjects were followed-up for survival and new anticancer treatment at every 60 days after the last dose of study drug for the first year, every 90 days thereafter. Reporting group title Cohort 2: Talazoparib 1 mg Reporting group description: Subjects with more than 2 prior non-platinum chemotherapy treatment for metastatic breast cancer, received talazoparib 1.0 mg orally, once daily for 21 days in repeated 21-day cycles until disease progression, occurrence of unacceptable toxicity or permanent treatment discontinuation. Prior adjuvant or neo-adjuvant therapy with a platinum was allowed if first disease recurrence was for more than 6 months since last dose of adjuvant/neo-adjuvant platinum treatment. Subjects were followed-up for survival and new anticancer treatment at every 60 days after the last dose of study drug for the first year, every 90 days thereafter. Subject analysis set title All Subjects: Talazoparib 1 mg Subject analysis set type Sub-group analysis Subject analysis set description: Subjects, who either responded to a prior platinum-containing treatment for metastatic breast cancer or had more than 2 prior non-platinum chemotherapy treatment for metastatic breast cancer, received talazoparib 1.0 mg orally, once daily for 21 days in repeated 21-day cycles until disease progression, occurrence of unacceptable toxicity or permanent treatment discontinuation. For the subjects with non- platinum chemotherapy, prior adjuvant or neo-adjuvant therapy with a platinum was allowed if first disease recurrence was for more than 6 months since last dose of adjuvant/neo-adjuvant platinum treatment. Subjects were followed-up for survival and new anticancer treatment at every 60 days after the last dose of study drug for the first year, every 90 days thereafter. Primary: Objective Response Rate (ORR) End point title Objective Response Rate (ORR)[1] End point description: ORR: Percentage of subjects with a confirmed best overall complete response (CR) or partial response (PR) according to response evaluation criteria in solid tumors version 1.1 (RECIST 1.1), evaluated by an independent radiology facility (IRF). CR: Disappearance of all non-nodal target and non-target lesions, including target and non-target lymph nodes reduction to less than 10 millimeter (mm) in short axis. PR: Greater than or equal to (>=) 30 percent (%) decrease in sum of diameters of target lesions, compared to the sum at baseline. Tumor-evaluable population (TEP) included all treated subjects who had a baseline and at least 1 post-baseline tumor assessment or who discontinued the study before first scheduled post-baseline tumor scan plus (+) 1 week window. End point type Primary End point timeframe: From randomization until data cutoff date (01 Sep 2016) Notes: [1] - No statistical analyses have been specified for this primary end point. It is expected there is at least one statistical analysis for each primary end point. Justification: No statistical analysis was performed for this endpoint Cohort 1: Cohort 2: End point values Talazoparib 1 Talazoparib 1 mg mg Subject group type Reporting group Reporting group Number of subjects analysed 48 35 Units: percentage of subjects 20.8 (10.47 to 37.1 (21.47 to number (confidence interval 95%) 34.99) 55.08) Clinical trial results 2013-003076-12 version 2 EU-CTR publication date: 07 September 2019 Page 7 of 31 Statistical analyses No statistical analyses for this end point Secondary: Clinical Benefit Rate-24 (CBR-24) End point title Clinical Benefit Rate-24 (CBR-24) End point description: CBR24: Percentage of subjects with a best overall response of confirmed CR, confirmed PR or stable disease (SD) sustained for at least 24 weeks, as assessed by IRF using RECIST 1.1. CR: Disappearance of all non-nodal target and non-target lesions, including target and non-target lymph nodes reduction to less than 10 mm in short axis. PR: >=30% decrease in sum of diameters of target lesions, compared to the sum at baseline. SD: Neither PR nor progression of disease (PD) criteria met. SD follow PR only when sum increases by less than 20% from the nadir, but previously seen 30% decrease from baseline no longer hold. PD: >=20% increase (>=5 mm absolute increase) in the sum of target lesion measurements, compared to the smallest sum on study (including baseline), or unequivocal progression of non-target lesions, evaluated as a whole, such that it is clear that treatment has failed and disease is progressing, regardless of the status of the target lesions. Analysis was done on TEP. End point type Secondary End point timeframe: From randomization until data cutoff date (01 Sep 2016) Cohort 1: Cohort 2: End point values Talazoparib 1 Talazoparib 1 mg mg Subject group type Reporting group Reporting group Number of subjects analysed 48 35 Units: percentage of subjects 27.1 (15.28 to 45.7 (28.83 to number (confidence interval 95%) 41.85) 63.35) Statistical analyses No statistical analyses for this end point Secondary: Duration of Response (DOR) End point title Duration of Response (DOR) End point description: DOR: Time from first documentation of CR or PR, to PD by IRF using RECIST 1.1, or to death (any cause), whichever occurred first. CR: Disappearance of all non-nodal target, non-target lesions (lymph nodes reduction to less than (<) 10 mm in short axis). PR: >=30% decrease in sum of diameters of target lesions, compared baseline sum. PD: >=20% increase (>=5 mm absolute increase) in sum of target lesion, compared to smallest sum, or unequivocal progression of non-target lesions, regardless target lesions. Subjects with no PD or death were censored at last tumor assessment prior to on or before of new anticancer therapy or before data cutoff. Analysis was done on TEP. Here 'Number of subjects analyzed' signifies subjects evaluable for this endpoint and '99999' signifies data not available Clinical trial results 2013-003076-12 version 2 EU-CTR publication date: 07 September 2019 Page 8 of 31 as upper limit of 95% confidence interval (CI) was not reached due to very less number of subjects and insufficient events at data cutoff. End point type Secondary End point timeframe: From first documentation of CR or PR until PD, last tumor assessment without PD before new anticancer treatment initiation or death due to any cause, whichever occurred first (up to the data cutoff date [01 Sep 2016]) Cohort 1: Cohort 2: End point values Talazoparib 1 Talazoparib 1 mg mg Subject group type Reporting group Reporting group Number of subjects analysed 10 13 Units: months 5.8 (2.8 to 3.8 (2.8 to median (confidence interval 95%) 99999) 10.1) Statistical analyses No statistical analyses for this end point Secondary: Progression Free Survival (PFS) End point title Progression Free Survival (PFS) End point description: PFS: Time, in months, from the first dose of study drug to the first documentation of PD by investigator assessment using RECIST 1.1 or death due to any cause on or before the data cutoff date, whichever occurred first. PD: >=20% increase (>=5 mm absolute increase) in the sum of target lesion measurements, compared to the smallest sum on study (including baseline), or unequivocal progression of non-target lesions, evaluated as a whole, such that it is clear that treatment has failed and disease is progressing, regardless of the status of the target lesions. Subjects with no PFS event at the analysis were censored at last tumor assessment date prior to data cutoff or date of new anticancer treatment initiation, whichever occurred first. ITT population involved all enrolled subjects including subjects who were not treated. End point type Secondary End point timeframe: From first dose of study drug until PD, last tumor assessment without PD before new anticancer treatment initiation or death due to any cause, whichever occurred first (up to the data cutoff date [01 Sep 2016]) Cohort 1: Cohort 2: End point values Talazoparib 1 Talazoparib 1 mg mg Subject group type Reporting group Reporting group Number of subjects analysed 49 35 Units: months median (confidence interval 95%) 4.0 (2.8 to 5.4)5.6 (5.5 to 7.8) Clinical trial results 2013-003076-12 version 2 EU-CTR publication date: 07 September 2019 Page 9 of 31 Statistical analyses No statistical analyses for this end point Secondary: Overall Survival (OS) End point title Overall Survival (OS) End point description: OS was defined as the time from first dose of study drug to death due to any cause. For subjects without a death date at the time of data cutoff or permanently lost to follow-up, OS was right-censored at the date the subject was last known to be alive on or before the data cutoff date. ITT population. Here ‘99999’ signifies data not available due to insufficient number of events at data cutoff. End point type Secondary End point timeframe: From first dose of study drug until death due to any cause (up to the data cutoff date [01 Sep 2016]) Cohort 1: Cohort 2: End point values Talazoparib 1 Talazoparib 1 mg mg Subject group type Reporting group Reporting group Number of subjects analysed 49 35 Units: months 11.8 (8.8 to 16.5 (10.1 to median (confidence interval 95%) 15.0) 99999) Statistical analyses No statistical analyses for this end point Secondary: Number of Subjects With Treatment-Emergent Adverse Events (AEs) and Serious Adverse Events (SAEs) End point title Number of Subjects With Treatment-Emergent Adverse Events (AEs) and Serious Adverse Events (SAEs) End point description: An AE was any untoward medical occurrence in a subject who received study drug without regard to possibility of causal relationship. SAE was an AE resulting in any of the following outcomes or deemed significant for any other reason: death; initial or prolonged inpatient hospitalization; life threatening experience (immediate risk of dying); persistent or significant disability/incapacity; congenital anomaly; an important medical event or reaction, including events requiring medical intervention to prevent worsening to any of the previously noted seriousness criteria. A treatment emergent AE was defined as an event that emerged during the treatment period that was absent before treatment, or worsened during the treatment period relative to the pretreatment state. AEs included both serious and non- serious AEs. Safety population included all subjects who received at least 1 dose of talazoparib. End point type Secondary End point timeframe: Clinical trial results 2013-003076-12 version 2 EU-CTR publication date: 07 September 2019 Page 10 of 31 Baseline up to end of study (up to a maximum duration of 42.8 months): based on data cutoff date (31 Oct 2018) Cohort 1: Cohort 2: End point values Talazoparib 1 Talazoparib 1 mg mg Subject group type Reporting group Reporting group Number of subjects analysed 48 35 Units: subjects AEs 47 34 SAEs 16 7 Statistical analyses No statistical analyses for this end point Secondary: Number of Subjects With Treatment-Related Adverse Events (AEs) and Serious Adverse Events (SAEs) End point title Number of Subjects With Treatment-Related Adverse Events (AEs) and Serious Adverse Events (SAEs) End point description: A treatment-related AE was any untoward medical occurrence attributed to study drug in a subject who received study drug. A treatment-related SAE was a treatment-related AE resulting in any of the following outcomes or deemed significant for any other reason: death; initial or prolonged inpatient hospitalization; life threatening experience (immediate risk of dying); persistent or significant disability/incapacity; congenital anomaly; an important medical event or reaction, including events requiring medical intervention to prevent worsening to any of the previously noted seriousness criteria. Safety population included all subjects who received at least 1 dose of talazoparib. Related TEAEs are TEAEs that were judged by the investigators as possibly, probably, or definitely related to study drug. AEs included both SAES and non SAES. End point type Secondary End point timeframe: Baseline up to end of study (up to a maximum duration of 42.8 months): based on data cutoff date (31 Oct 2018) Cohort 1: Cohort 2: End point values Talazoparib 1 Talazoparib 1 mg mg Subject group type Reporting group Reporting group Number of subjects analysed 48 35 Units: subjects AEs 46 33 SAEs 7 4 Statistical analyses Clinical trial results 2013-003076-12 version 2 EU-CTR publication date: 07 September 2019 Page 11 of 31 No statistical analyses for this end point Secondary: Number of Subjects With Outcome in Response to Adverse Events (AEs) End point title Number of Subjects With Outcome in Response to Adverse Events (AEs) End point description: An AE was any untoward medical occurrence in a subject who received study drug without regard to possibility of causal relationship. Outcome of an AE was response to a question answered by the investigator: ‘Is the AE leading to study discontinuation or death?’ as ‘yes’. Safety population included all subjects who received at least 1 dose of talazoparib. End point type Secondary End point timeframe: Baseline up to end of study (up to a maximum duration of 42.8 months): based on data cutoff date (31 Oct 2018) Cohort 1: Cohort 2: End point values Talazoparib 1 Talazoparib 1 mg mg Subject group type Reporting group Reporting group Number of subjects analysed 48 35 Units: subjects AEs leading to study drug 4 1 discontinuation AEs leading to death 5 1 Statistical analyses No statistical analyses for this end point Secondary: Number of Subjects With Toxicity Grades Increase of 2 or More in Laboratory Parameter (Hematology Parameter) End point title Number of Subjects With Toxicity Grades Increase of 2 or More in Laboratory Parameter (Hematology Parameter) End point description: Laboratory tests included hematology (hemoglobin [low], leucocytes [low], lymphocytes [low], neutrophils [low], platelets [low]). Toxicity grades were evaluated based on national cancer institute- common terminology criteria for adverse events (NCI-CTCAE) version 4.03. Number of subjects with increase of 2 or more CTCAE toxicity grades above baseline, for hematology laboratory parameter is reported in this endpoint. Safety population included all subjects who received at least 1 dose of talazoparib. End point type Secondary End point timeframe: Baseline up to end of study (up to a maximum duration of 42.8 months): based on data cutoff date (31 Oct 2018) Clinical trial results 2013-003076-12 version 2 EU-CTR publication date: 07 September 2019 Page 12 of 31 Cohort 1: Cohort 2: End point values Talazoparib 1 Talazoparib 1 mg mg Subject group type Reporting group Reporting group Number of subjects analysed 48 35 Units: subjects Hemoglobin (low) 19 16 Leukocytes (low) 16 15 Lymphocytes (low) 15 4 Neutrophils (low) 20 17 Platelets (low) 21 10 Statistical analyses No statistical analyses for this end point Secondary: Number of Subjects With Toxicity Grades Increase of 2 or More in Laboratory Parameter (Chemistry Parameter) End point title Number of Subjects With Toxicity Grades Increase of 2 or More in Laboratory Parameter (Chemistry Parameter) End point description: Laboratory tests included serum chemistry (alanine aminotransferase [high], albumin [low], alkaline phosphatase [high], aspartate aminotransferase [high], bilirubin [high], calcium [low], glucose [high], magnesium [low], phosphate [low], potassium [high], potassium [low], sodium [high], sodium [low]). Toxicity grades were evaluated based on national cancer institute- common terminology criteria for adverse events (NCI-CTCAE) version 4.03. Number of subjects with increase of 2 or more CTCAE toxicity grades above baseline, for chemistry laboratory parameter is reported in this endpoint. Safety population included all subjects who received at least 1 dose of talazoparib. End point type Secondary End point timeframe: Baseline up to 30 days after the last dose of study drug or before initiation of a new anticancer treatment, whichever occurred first (up to data cutoff date [01 Sep 2016]) Cohort 1: Cohort 2: End point values Talazoparib 1 Talazoparib 1 mg mg Subject group type Reporting group Reporting group Number of subjects analysed 48 35 Units: subjects Alanine aminotransferase (high) 3 2 Albumin (low) 3 0 Alkaline phosphatase (high) 1 1 Aspartate aminotransferase (high) 2 1 Bilirubin (high) 2 0 Calcium (low) 4 1 Glucose (high) 1 1 Magnesium (low) 1 0 Phosphate (low) 6 2 Potassium (high) 1 0 Potassium (low) 2 0 Clinical trial results 2013-003076-12 version 2 EU-CTR publication date: 07 September 2019 Page 13 of 31 Sodium (high) 1 0 Sodium (low) 0 1 Statistical analyses No statistical analyses for this end point Secondary: Number of Subjects With Clinically Significant Change From Baseline in Vital Signs End point title Number of Subjects With Clinically Significant Change From Baseline in Vital Signs End point description: Criteria for clinically significant vital signs changes: 1) Blood pressure: systolic blood pressure (SBP): greater than or equal to (>=30) millimeters of mercury (mmHg) increase from baseline, diastolic blood pressure (DBP): >=20 mmHg decrease from baseline; 2) Heart rate (HR): absolute HR greater than (>) 120 beats per minute (bpm) and >30 bpm increase from baseline, absolute HR less than (<) 50 bpm and >20 bpm decrease from baseline; 3) Weight: >10 percent (%) decrease from baseline. Number of subjects with any clinically significant change from baseline for blood pressure, heart rate and weight are reported in this endpoint. Safety population included all subjects who received at least 1 dose of talazoparib. End point type Secondary End point timeframe: Baseline up to end of study (up to a maximum duration of 42.8 months): based on data cutoff date (31 Oct 2018) Cohort 1: Cohort 2: End point values Talazoparib 1 Talazoparib 1 mg mg Subject group type Reporting group Reporting group Number of subjects analysed 48 35 Units: subjects Blood pressure (SBP or DBP) 20 18 HR 2 0 Weight 4 1 Statistical analyses No statistical analyses for this end point Secondary: Number of Subjects With Clinically Significant Change From Baseline in Physical Findings End point title Number of Subjects With Clinically Significant Change From Baseline in Physical Findings End point description: Physical examination included examination of the head, ears, eyes, nose, mouth, skin, heart and lung examinations, lymph nodes, gastrointestinal, musculoskeletal, and neurological systems. The examination assessed the subjects for any potential changes in general appearance, the respiratory and Clinical trial results 2013-003076-12 version 2 EU-CTR publication date: 07 September 2019 Page 14 of 31 cardiovascular systems, as well as towards subject reported symptoms. Findings were considered to be clinically significant based on investigator’s decision. Safety population included all subjects who received at least 1 dose of talazoparib. End point type Secondary End point timeframe: Baseline up to end of study (up to a maximum duration of 42.8 months): based on data cutoff date (31 Oct 2018) Cohort 1: Cohort 2: End point values Talazoparib 1 Talazoparib 1 mg mg Subject group type Reporting group Reporting group Number of subjects analysed 48 35 Units: subjects 0 0 Statistical analyses No statistical analyses for this end point Secondary: Number of Subjects With At Least 1 Concomitant Medication End point title Number of Subjects With At Least 1 Concomitant Medication End point description: Number of subjects taking any non-study medications, therapies, including herbal supplements during the treatment-emergent period for the management of an adverse event or for the treatment of any other disease. Safety population included all subjects who received at least 1 dose of talazoparib. End point type Secondary End point timeframe: Baseline up to end of study (up to a maximum duration of 42.8 months): based on data cutoff date (31 Oct 2018) Cohort 1: Cohort 2: End point values Talazoparib 1 Talazoparib 1 mg mg Subject group type Reporting group Reporting group Number of subjects analysed 48 35 Units: subjects 48 34 Statistical analyses No statistical analyses for this end point Secondary: Trough Concentration Versus Time Summary of Talazoparib End point title Trough Concentration Versus Time Summary of Talazoparib End point description: Clinical trial results 2013-003076-12 version 2 EU-CTR publication date: 07 September 2019 Page 15 of 31 Concentrations below the limit of quantitation values less than or equal to (<=) 25 picogram per milliliter (pg/mL) were set as zero. Pharmacokinetic (PK) analysis was not done separately for each reporting arm and cohorts were combined for PK analysis. PK population included all subjects who received at least 1 dose of talazoparib and had evaluable PK assessments. Here 'n' signifies subjects evaluable for each specified categories. End point type Secondary End point timeframe: Predose on Day 1 of Cycle 1, 2, 3, and 4 (data cutoff date: 01 Sep 2016) All Subjects: End point values Talazoparib 1 mg Subject group type Subject analysis set Number of subjects analysed 83 Units: pg/mL arithmetic mean (standard deviation) Day 1 of Cycle 1 (n = 82) 10.3 (± 93.3) Day 1 of Cycle 2 (n = 63) 4340 (± 2360) Day 1 of Cycle 3 (n = 44) 4510 (± 2720) Day 1 of Cycle 4 (n = 33) 3660 (± 1690) Statistical analyses No statistical analyses for this end point Other pre-specified: Time to Deterioration in Global Health Status/Quality of Life (QOL) and Functional Status as Assessed by European Organization for the Research and Treatment of Cancer Quality of Life Questionnaire Core 30 (EORTC-QLQ-C30) End point title Time to Deterioration in Global Health Status/Quality of Life (QOL) and Functional Status as Assessed by European Organization for the Research and Treatment of Cancer Quality of Life Questionnaire Core 30 (EORTC-QLQ-C30) End point description: Time to deterioration was defined as the time from baseline to day to death, first occurrence of progression, or a >=10 point change from baseline in any of the functional status score and global health status/QOL score based on the EORTC-QLQ-C30, whichever occurred first. EORTC-QLQ-C30 questionnaire is a standardized instrument developed to assess the quality of life of people with cancer. EORTC-QLQ-C30 functional subscale includes 5 items: physical, role, emotional, cognitive, and social functioning. All of the single items of functional status subscale measures and global health status/QOL subscale range from 0 to 100, where higher scores represent a better level of functioning/quality of life. ITT population involved all enrolled subjects including subjects who were not treated. End point type Other pre-specified End point timeframe: Baseline up to death, disease progression or end of treatment (30 days after last dose of study drug or before initiation of a new anticancer therapy, whichever occurred first [up to data cutoff date: 01 Sep 2016]) Clinical trial results 2013-003076-12 version 2 EU-CTR publication date: 07 September 2019 Page 16 of 31 Cohort 1: Cohort 2: End point values Talazoparib 1 Talazoparib 1 mg mg Subject group type Reporting group Reporting group Number of subjects analysed 49 35 Units: months median (confidence interval 95%) Global Health Status/QOL 2.8 (2.1 to 3.0)5.5 (4.2 to 5.7) Physical Functioning 3.1 (2.1 to 4.6)5.6 (5.3 to 7.7) Role Functioning 2.1 (1.4 to 2.8)4.2 (2.1 to 5.5) Emotional Functioning 2.7 (2.0 to 2.8)5.5 (4.3 to 5.6) Cognitive Functioning 2.7 (1.6 to 3.2)4.2 (2.8 to 5.5) Social Functioning 2.2 (1.4 to 2.9)5.3 (4.1 to 5.6) Statistical analyses No statistical analyses for this end point Other pre-specified: Time to Deterioration in Disease Specific Symptoms as Assessed by the European Organization for the Research and Treatment of Cancer Quality of Life Questionnaire Breast Cancer Module (EORTC-QLQ-BR23) End point title Time to Deterioration in Disease Specific Symptoms as Assessed by the European Organization for the Research and Treatment of Cancer Quality of Life Questionnaire Breast Cancer Module (EORTC-QLQ-BR23) End point description: Time to deterioration was defined as the time from baseline to day to death, first occurrence of progression, or a >=10 point change from baseline in any of the symptom score based on the EORTC- QLQ-BR23, whichever occurred first. EORTC-QLQ-BR23 is a disease-specific module for breast cancer developed as a supplement for the EORTC-QLQ-C30 to assess the quality of life of subjects with breast cancer. EORTC-QLQ-BR23 symptoms subscale includes 4 items: systemic therapy side effects, breast symptoms, arm symptoms, upset by hair loss. Each item is rated by choosing 1 of 4 possible responses that record the level of intensity (1= not at all, 2= a little, 3= quite a bit, and 4= very much) within each scale. ITT population involved all enrolled subjects including subjects who were not treated. End point type Other pre-specified End point timeframe: Baseline up to death, disease progression or end of treatment (30 days after last dose of study drug or before initiation of a new anticancer therapy, whichever occurred first [up to data cutoff date: 01 Sep 2016]) Cohort 1: Cohort 2: End point values Talazoparib 1 Talazoparib 1 mg mg Subject group type Reporting group Reporting group Number of subjects analysed 49 35 Units: months median (confidence interval 95%) Systemic Therapy Side Effects 2.8 (2.3 to 4.0)5.5 (4.1 to 5.6) Breast Symptoms 3.1 (2.5 to 4.6)5.6 (5.3 to 7.7) Arm Symptoms 2.6 (2.0 to 3.7)4.2 (2.8 to 5.5) Upset by Hair Loss 4.0 (2.7 to 5.4)5.6 (5.3 to 7.7) Clinical trial results 2013-003076-12 version 2 EU-CTR publication date: 07 September 2019 Page 17 of 31 Statistical analyses No statistical analyses for this end point Clinical trial results 2013-003076-12 version 2 EU-CTR publication date: 07 September 2019 Page 18 of 31 Adverse events Adverse events information Timeframe for reporting adverse events: Baseline up to end of study (up to maximum duration of 42.8 months) Adverse event reporting additional description: Same event may appear as both an AE and a SAE. However, what is presented are distinct events. An event may be categorized as serious in one subject and as non-serious in another subject, or one subject may have experienced both a serious and non-serious event during the study. AEs and SAEs were collected for safety population. Assessment type Non-systematic Dictionary used Dictionary name MedDRA Dictionary version 20.0 Reporting groups Reporting group title Cohort 1: Talazoparib 1 mg Reporting group description: Subjects who responded to a prior platinum-containing treatment for metastatic breast cancer, received talazoparib 1.0 mg orally, once daily for 21 days in repeated 21-day cycles until disease progression, occurrence of unacceptable toxicity or permanent treatment discontinuation. Subjects were followed-up for survival and new anticancer treatment at every 60 days after the last dose of study drug for the first year, every 90 days thereafter. Reporting group title Cohort 2: Talazoparib 1 mg Reporting group description: Subjects with more than 2 prior non-platinum chemotherapy treatment for metastatic breast cancer, received talazoparib 1.0 mg orally, once daily for 21 days in repeated 21-day cycles until disease progression, occurrence of unacceptable toxicity or permanent treatment discontinuation. Prior adjuvant or neo-adjuvant therapy with a platinum was allowed if first disease recurrence was for more than 6 months since last dose of adjuvant/neo-adjuvant platinum treatment. Subjects were followed-up for survival and new anticancer treatment at every 60 days after the last dose of study drug for the first year, every 90 days thereafter. Cohort 1: Cohort 2: Serious adverse events Talazoparib 1 mg Talazoparib 1 mg Total subjects affected by serious adverse events subjects affected / exposed 16 / 48 (33.33%) 7 / 35 (20.00%) number of deaths (all causes) 5 1 number of deaths resulting from adverse events Injury, poisoning and procedural complications Transfusion reaction subjects affected / exposed 1 / 48 (2.08%) 0 / 35 (0.00%) occurrences causally related to 0 / 1 0 / 0 treatment / all deaths causally related to treatment / all 0 / 0 0 / 0 Surgical and medical procedures Lipoinjection subjects affected / exposed 1 / 48 (2.08%) 0 / 35 (0.00%) occurrences causally related to 0 / 1 0 / 0 Clinical trial results 2013-003076-12 version 2 EU-CTR publication date: 07 September 2019 Page 19 of 31 treatment / all deaths causally related to treatment / all 0 / 0 0 / 0 Salpingo-oophorectomy Additional description: Gender specific event. subjects affected / exposed 1 / 48 (2.08%) 0 / 35 (0.00%) occurrences causally related to 0 / 1 0 / 0 treatment / all deaths causally related to treatment / all 0 / 0 0 / 0 Investigations Platelet count decreased subjects affected / exposed 1 / 48 (2.08%) 1 / 35 (2.86%) occurrences causally related to 1 / 1 1 / 1 treatment / all deaths causally related to treatment / all 0 / 0 0 / 0 Neoplasms benign, malignant and unspecified (incl cysts and polyps) Neoplasm progression subjects affected / exposed 3 / 48 (6.25%) 0 / 35 (0.00%) occurrences causally related to 0 / 3 0 / 0 treatment / all deaths causally related to treatment / all 0 / 3 0 / 1 Breast cancer metastatic subjects affected / exposed 2 / 48 (4.17%) 0 / 35 (0.00%) occurrences causally related to 0 / 2 0 / 0 treatment / all deaths causally related to treatment / all 0 / 1 0 / 0 Silicon granuloma subjects affected / exposed 1 / 48 (2.08%) 0 / 35 (0.00%) occurrences causally related to 0 / 1 0 / 0 treatment / all deaths causally related to treatment / all 0 / 0 0 / 0 Respiratory, thoracic and mediastinal disorders Pleural effusion subjects affected / exposed 3 / 48 (6.25%) 2 / 35 (5.71%) occurrences causally related to 0 / 3 0 / 2 treatment / all deaths causally related to treatment / all 0 / 0 0 / 0 Dyspnoea subjects affected / exposed 2 / 48 (4.17%) 2 / 35 (5.71%) occurrences causally related to 0 / 2 1 / 5 treatment / all deaths causally related to treatment / all 0 / 1 0 / 0 Clinical trial results 2013-003076-12 version 2 EU-CTR publication date: 07 September 2019 Page 20 of 31 Atelectasis subjects affected / exposed 1 / 48 (2.08%) 0 / 35 (0.00%) occurrences causally related to 0 / 1 0 / 0 treatment / all deaths causally related to treatment / all 0 / 0 0 / 0 Pulmonary embolism subjects affected / exposed 1 / 48 (2.08%) 0 / 35 (0.00%) occurrences causally related to 0 / 1 0 / 0 treatment / all deaths causally related to treatment / all 0 / 0 0 / 0 Respiratory distress subjects affected / exposed 0 / 48 (0.00%) 1 / 35 (2.86%) occurrences causally related to 0 / 0 0 / 1 treatment / all deaths causally related to treatment / all 0 / 0 0 / 0 Blood and lymphatic system disorders Anaemia subjects affected / exposed 5 / 48 (10.42%) 1 / 35 (2.86%) occurrences causally related to 4 / 5 3 / 3 treatment / all deaths causally related to treatment / all 0 / 0 0 / 0 Thrombocytopenia subjects affected / exposed 2 / 48 (4.17%) 1 / 35 (2.86%) occurrences causally related to 2 / 2 1 / 1 treatment / all deaths causally related to treatment / all 0 / 0 0 / 0 Anaemia of malignant disease subjects affected / exposed 1 / 48 (2.08%) 0 / 35 (0.00%) occurrences causally related to 0 / 1 0 / 0 treatment / all deaths causally related to treatment / all 0 / 0 0 / 0 Nervous system disorders Central nervous system lesion subjects affected / exposed 1 / 48 (2.08%) 0 / 35 (0.00%) occurrences causally related to 0 / 1 0 / 0 treatment / all deaths causally related to treatment / all 0 / 0 0 / 0 Presyncope subjects affected / exposed 1 / 48 (2.08%) 0 / 35 (0.00%) occurrences causally related to 0 / 1 0 / 0 treatment / all deaths causally related to treatment / all 0 / 0 0 / 0 Clinical trial results 2013-003076-12 version 2 EU-CTR publication date: 07 September 2019 Page 21 of 31 Syncope subjects affected / exposed 1 / 48 (2.08%) 0 / 35 (0.00%) occurrences causally related to 0 / 1 0 / 0 treatment / all deaths causally related to treatment / all 0 / 0 0 / 0 Psychiatric disorders Anxiety subjects affected / exposed 1 / 48 (2.08%) 0 / 35 (0.00%) occurrences causally related to 0 / 1 0 / 0 treatment / all deaths causally related to treatment / all 0 / 0 0 / 0 Gastrointestinal disorders Oesophagitis subjects affected / exposed 1 / 48 (2.08%) 0 / 35 (0.00%) occurrences causally related to 0 / 1 0 / 0 treatment / all deaths causally related to treatment / all 0 / 0 0 / 0 Musculoskeletal and connective tissue disorders Arthralgia subjects affected / exposed 1 / 48 (2.08%) 0 / 35 (0.00%) occurrences causally related to 0 / 1 0 / 0 treatment / all deaths causally related to treatment / all 0 / 0 0 / 0 Metabolism and nutrition disorders Hypokalaemia subjects affected / exposed 1 / 48 (2.08%) 0 / 35 (0.00%) occurrences causally related to 0 / 1 0 / 0 treatment / all deaths causally related to treatment / all 0 / 0 0 / 0 Infections and infestations Neutropenic sepsis subjects affected / exposed 0 / 48 (0.00%) 1 / 35 (2.86%) occurrences causally related to 0 / 0 1 / 1 treatment / all deaths causally related to treatment / all 0 / 0 0 / 0 Pneumonia subjects affected / exposed 2 / 48 (4.17%) 0 / 35 (0.00%) occurrences causally related to 0 / 2 0 / 0 treatment / all deaths causally related to treatment / all 0 / 1 0 / 0 Influenza subjects affected / exposed 0 / 48 (0.00%) 1 / 35 (2.86%) Clinical trial results 2013-003076-12 version 2 EU-CTR publication date: 07 September 2019 Page 22 of 31 occurrences causally related to 0 / 0 0 / 1 treatment / all deaths causally related to treatment / all 0 / 0 0 / 0 Frequency threshold for reporting non-serious adverse events: 5 % Cohort 1: Cohort 2: Non-serious adverse events Talazoparib 1 mg Talazoparib 1 mg Total subjects affected by non-serious adverse events subjects affected / exposed 47 / 48 (97.92%) 34 / 35 (97.14%) Vascular disorders Hot flush subjects affected / exposed 3 / 48 (6.25%) 3 / 35 (8.57%) occurrences (all) 3 3 Lymphoedema subjects affected / exposed 3 / 48 (6.25%) 2 / 35 (5.71%) occurrences (all) 3 2 General disorders and administration site conditions Asthenia subjects affected / exposed 3 / 48 (6.25%) 10 / 35 (28.57%) occurrences (all) 7 31 Axillary pain subjects affected / exposed 1 / 48 (2.08%) 2 / 35 (5.71%) occurrences (all) 1 4 Mucosal inflammation subjects affected / exposed 4 / 48 (8.33%) 2 / 35 (5.71%) occurrences (all) 5 2 Fatigue subjects affected / exposed 29 / 48 (60.42%) 8 / 35 (22.86%) occurrences (all) 37 15 Oedema peripheral subjects affected / exposed 1 / 48 (2.08%) 6 / 35 (17.14%) occurrences (all) 1 10 Non-cardiac chest pain subjects affected / exposed 3 / 48 (6.25%) 0 / 35 (0.00%) occurrences (all) 7 0 Pyrexia Clinical trial results 2013-003076-12 version 2 EU-CTR publication date: 07 September 2019 Page 23 of 31 subjects affected / exposed 1 / 48 (2.08%) 5 / 35 (14.29%) occurrences (all) 1 9 Chills subjects affected / exposed 1 / 48 (2.08%) 2 / 35 (5.71%) occurrences (all) 1 2 Psychiatric disorders Depression subjects affected / exposed 1 / 48 (2.08%) 2 / 35 (5.71%) occurrences (all) 1 2 Insomnia subjects affected / exposed 5 / 48 (10.42%) 3 / 35 (8.57%) occurrences (all) 5 4 Anxiety subjects affected / exposed 2 / 48 (4.17%) 2 / 35 (5.71%) occurrences (all) 2 2 Investigations Alanine aminotransferase increased subjects affected / exposed 1 / 48 (2.08%) 3 / 35 (8.57%) occurrences (all) 3 6 Aspartate aminotransferase increased subjects affected / exposed 4 / 48 (8.33%) 2 / 35 (5.71%) occurrences (all) 4 5 Neutrophil count decreased subjects affected / exposed 5 / 48 (10.42%) 5 / 35 (14.29%) occurrences (all) 11 16 Platelet count decreased subjects affected / exposed 7 / 48 (14.58%) 5 / 35 (14.29%) occurrences (all) 29 16 Weight decreased subjects affected / exposed 3 / 48 (6.25%) 0 / 35 (0.00%) occurrences (all) 3 0 White blood cell count decreased subjects affected / exposed 3 / 48 (6.25%) 5 / 35 (14.29%) occurrences (all) 13 12 Cardiac disorders Clinical trial results 2013-003076-12 version 2 EU-CTR publication date: 07 September 2019 Page 24 of 31 Tachycardia subjects affected / exposed 2 / 48 (4.17%) 2 / 35 (5.71%) occurrences (all) 2 2 Blood and lymphatic system disorders Anaemia subjects affected / exposed 23 / 48 (47.92%) 19 / 35 (54.29%) occurrences (all) 67 89 Leukopenia subjects affected / exposed 7 / 48 (14.58%) 6 / 35 (17.14%) occurrences (all) 17 21 Lymphopenia subjects affected / exposed 2 / 48 (4.17%) 4 / 35 (11.43%) occurrences (all) 3 8 Neutropenia subjects affected / exposed 10 / 48 (20.83%) 12 / 35 (34.29%) occurrences (all) 36 36 Thrombocytopenia subjects affected / exposed 18 / 48 (37.50%) 9 / 35 (25.71%) occurrences (all) 49 34 Respiratory, thoracic and mediastinal disorders Dyspnoea subjects affected / exposed 9 / 48 (18.75%) 9 / 35 (25.71%) occurrences (all) 11 22 Cough subjects affected / exposed 9 / 48 (18.75%) 7 / 35 (20.00%) occurrences (all) 9 12 Epistaxis subjects affected / exposed 2 / 48 (4.17%) 2 / 35 (5.71%) occurrences (all) 2 2 Nasal congestion subjects affected / exposed 1 / 48 (2.08%) 2 / 35 (5.71%) occurrences (all) 1 2 Pleural effusion subjects affected / exposed 1 / 48 (2.08%) 2 / 35 (5.71%) occurrences (all) 1 3 Rhinorrhoea Clinical trial results 2013-003076-12 version 2 EU-CTR publication date: 07 September 2019 Page 25 of 31 subjects affected / exposed 0 / 48 (0.00%) 3 / 35 (8.57%) occurrences (all) 0 3 Oropharyngeal pain subjects affected / exposed 2 / 48 (4.17%) 3 / 35 (8.57%) occurrences (all) 2 3 Nervous system disorders Dizziness subjects affected / exposed 6 / 48 (12.50%) 2 / 35 (5.71%) occurrences (all) 7 2 Dysgeusia subjects affected / exposed 1 / 48 (2.08%) 3 / 35 (8.57%) occurrences (all) 1 3 Headache subjects affected / exposed 9 / 48 (18.75%) 11 / 35 (31.43%) occurrences (all) 14 26 Neuralgia subjects affected / exposed 0 / 48 (0.00%) 2 / 35 (5.71%) occurrences (all) 0 2 Neuropathy peripheral subjects affected / exposed 2 / 48 (4.17%) 4 / 35 (11.43%) occurrences (all) 2 5 Presyncope subjects affected / exposed 0 / 48 (0.00%) 2 / 35 (5.71%) occurrences (all) 0 2 Gastrointestinal disorders Abdominal discomfort subjects affected / exposed 1 / 48 (2.08%) 2 / 35 (5.71%) occurrences (all) 1 2 Abdominal distension subjects affected / exposed 1 / 48 (2.08%) 3 / 35 (8.57%) occurrences (all) 1 4 Abdominal pain subjects affected / exposed 7 / 48 (14.58%) 7 / 35 (20.00%) occurrences (all) 8 14 Abdominal pain upper subjects affected / exposed 2 / 48 (4.17%) 6 / 35 (17.14%) Clinical trial results 2013-003076-12 version 2 EU-CTR publication date: 07 September 2019 Page 26 of 31 occurrences (all) 3 13 Constipation subjects affected / exposed 9 / 48 (18.75%) 6 / 35 (17.14%) occurrences (all) 10 15 Diarrhoea subjects affected / exposed 18 / 48 (37.50%) 10 / 35 (28.57%) occurrences (all) 26 18 Dry mouth subjects affected / exposed 0 / 48 (0.00%) 2 / 35 (5.71%) occurrences (all) 0 2 Dyspepsia subjects affected / exposed 5 / 48 (10.42%) 3 / 35 (8.57%) occurrences (all) 5 4 Nausea subjects affected / exposed 20 / 48 (41.67%) 15 / 35 (42.86%) occurrences (all) 24 22 Stomatitis subjects affected / exposed 3 / 48 (6.25%) 1 / 35 (2.86%) occurrences (all) 3 1 Toothache subjects affected / exposed 1 / 48 (2.08%) 2 / 35 (5.71%) occurrences (all) 1 2 Vomiting subjects affected / exposed 10 / 48 (20.83%) 8 / 35 (22.86%) occurrences (all) 19 15 Skin and subcutaneous tissue disorders Alopecia subjects affected / exposed 11 / 48 (22.92%) 6 / 35 (17.14%) occurrences (all) 11 6 Dry skin subjects affected / exposed 1 / 48 (2.08%) 4 / 35 (11.43%) occurrences (all) 1 5 Erythema subjects affected / exposed 0 / 48 (0.00%) 3 / 35 (8.57%) occurrences (all) 0 4 Pruritus Clinical trial results 2013-003076-12 version 2 EU-CTR publication date: 07 September 2019 Page 27 of 31 subjects affected / exposed 1 / 48 (2.08%) 3 / 35 (8.57%) occurrences (all) 1 4 Hyperhidrosis subjects affected / exposed 1 / 48 (2.08%) 2 / 35 (5.71%) occurrences (all) 1 3 Musculoskeletal and connective tissue disorders Arthralgia subjects affected / exposed 8 / 48 (16.67%) 9 / 35 (25.71%) occurrences (all) 10 14 Bone pain subjects affected / exposed 0 / 48 (0.00%) 2 / 35 (5.71%) occurrences (all) 0 2 Back pain subjects affected / exposed 12 / 48 (25.00%) 8 / 35 (22.86%) occurrences (all) 13 11 Muscle spasms subjects affected / exposed 4 / 48 (8.33%) 5 / 35 (14.29%) occurrences (all) 4 5 Musculoskeletal chest pain subjects affected / exposed 3 / 48 (6.25%) 2 / 35 (5.71%) occurrences (all) 4 2 Musculoskeletal pain subjects affected / exposed 1 / 48 (2.08%) 3 / 35 (8.57%) occurrences (all) 1 3 Neck pain subjects affected / exposed 1 / 48 (2.08%) 3 / 35 (8.57%) occurrences (all) 1 15 Pain in extremity subjects affected / exposed 2 / 48 (4.17%) 3 / 35 (8.57%) occurrences (all) 2 4 Myalgia subjects affected / exposed 1 / 48 (2.08%) 2 / 35 (5.71%) occurrences (all) 1 4 Metabolism and nutrition disorders Clinical trial results 2013-003076-12 version 2 EU-CTR publication date: 07 September 2019 Page 28 of 31 Decreased appetite subjects affected / exposed 12 / 48 (25.00%) 10 / 35 (28.57%) occurrences (all) 13 14 Hyperglycaemia subjects affected / exposed 2 / 48 (4.17%) 2 / 35 (5.71%) occurrences (all) 2 4 Hypomagnesaemia subjects affected / exposed 3 / 48 (6.25%) 0 / 35 (0.00%) occurrences (all) 3 0 Hyponatraemia subjects affected / exposed 1 / 48 (2.08%) 2 / 35 (5.71%) occurrences (all) 1 3 Infections and infestations Influenza subjects affected / exposed 3 / 48 (6.25%) 1 / 35 (2.86%) occurrences (all) 3 1 Gingivitis subjects affected / exposed 0 / 48 (0.00%) 2 / 35 (5.71%) occurrences (all) 0 3 Lower respiratory tract infection subjects affected / exposed 3 / 48 (6.25%) 0 / 35 (0.00%) occurrences (all) 3 0 Nasopharyngitis subjects affected / exposed 0 / 48 (0.00%) 2 / 35 (5.71%) occurrences (all) 0 4 Pharyngitis subjects affected / exposed 0 / 48 (0.00%) 3 / 35 (8.57%) occurrences (all) 0 4 Rhinitis subjects affected / exposed 4 / 48 (8.33%) 2 / 35 (5.71%) occurrences (all) 4 3 Sinusitis subjects affected / exposed 1 / 48 (2.08%) 2 / 35 (5.71%) occurrences (all) 1 2 Upper respiratory tract infection subjects affected / exposed 3 / 48 (6.25%) 5 / 35 (14.29%) Clinical trial results 2013-003076-12 version 2 EU-CTR publication date: 07 September 2019 Page 29 of 31 occurrences (all) 3 6 Oral herpes subjects affected / exposed 0 / 48 (0.00%) 2 / 35 (5.71%) occurrences (all) 0 3 Viral upper respiratory tract infection subjects affected / exposed 11 / 48 (22.92%) 3 / 35 (8.57%) occurrences (all) 14 4 Clinical trial results 2013-003076-12 version 2 EU-CTR publication date: 07 September 2019 Page 30 of 31 More information Substantial protocol amendments (globally) Were there any global substantial amendments to the protocol? Yes Date Amendment 15 December 2015 To add liver safety monitoring guidelines in accordance with United States Food and Drug Administration (US FDA) Guidance for Industry Drug-Induced Liver Injury: Premarketing Clinical Evaluation (2009). To update the dose modification guidelines taking into consideration the type of toxicity. Notes: Interruptions (globally) Were there any global interruptions to the trial? No Limitations and caveats None reported Clinical trial results 2013-003076-12 version 2 EU-CTR publication date: 07 September 2019 Page 31 of 31 \n"
     ]
    }
   ],
   "source": [
    "print(cts_dataset['text'][0])"
   ]
  },
  {
   "cell_type": "code",
   "execution_count": 9,
   "id": "7414548b",
   "metadata": {
    "scrolled": true
   },
   "outputs": [
    {
     "name": "stdout",
     "output_type": "stream",
     "text": [
      "53440\n"
     ]
    }
   ],
   "source": [
    "print(len(cts_dataset['text'][0]))"
   ]
  },
  {
   "cell_type": "code",
   "execution_count": 10,
   "id": "fa254c5f",
   "metadata": {
    "scrolled": true
   },
   "outputs": [
    {
     "name": "stdout",
     "output_type": "stream",
     "text": [
      "4096\n"
     ]
    }
   ],
   "source": [
    "print(len(cts_dataset['text'][0][0:4096]))"
   ]
  },
  {
   "cell_type": "code",
   "execution_count": 11,
   "id": "0e1dcd93",
   "metadata": {
    "scrolled": true
   },
   "outputs": [
    {
     "name": "stdout",
     "output_type": "stream",
     "text": [
      "4096\n"
     ]
    }
   ],
   "source": [
    "print(len(cts_dataset['text'][0][4096:4096+4096]))"
   ]
  },
  {
   "cell_type": "code",
   "execution_count": 32,
   "id": "adb20e63",
   "metadata": {
    "scrolled": true
   },
   "outputs": [
    {
     "name": "stdout",
     "output_type": "stream",
     "text": [
      "192\n"
     ]
    },
    {
     "data": {
      "text/plain": [
       "' there any global interruptions to the trial? No Limitations and caveats None reported Clinical trial results 2013-003076-12 version 2 EU-CTR publication date: 07 September 2019 Page 31 of 31 '"
      ]
     },
     "execution_count": 32,
     "metadata": {},
     "output_type": "execute_result"
    }
   ],
   "source": [
    "no_chunks = 4096\n",
    "\n",
    "test_list = cts_dataset['text'][0]\n",
    "\n",
    "final_list= lambda test_list, no_chunks: [test_list[i:i+no_chunks] for i in range(0, len(test_list), no_chunks)]\n",
    "\n",
    "output=final_list(test_list, no_chunks)\n",
    "print(len(output[13]))\n",
    "output[13]"
   ]
  },
  {
   "cell_type": "code",
   "execution_count": 8,
   "id": "b60bee47",
   "metadata": {},
   "outputs": [
    {
     "name": "stdout",
     "output_type": "stream",
     "text": [
      " WHY WAS THIS STUDY DONE? Breast cancer is one of the most common causes of cancer in women. In 2012, around 1.7 million women were diagnosed with this disease around the world. Men can also get breast cancer, though this is quite rare.  Some breast cancers are caused by “mutations” in “DNA” in the BReast CAncer “genes” 1 and 2, which are more commonly known as BRCA1 and BRCA2. DNA is a material inside the cells of all living things that controls how cells in the body grow.  Genes are parts of DNA that contain the code for a specific feature, like eye color.  Mutations are changes in the DNA that can alter how a cell will behave.  If the BRCA1 and BRCA2 genes have mutations then this may cause breast cancer.  These mutations can be inherited from a parent with this mutation or through chance, which is like the roll of a dice. Special proteins known as “poly (ADP-ribose) polymerase” or “PARP” are found in all cells, and these proteins can help damaged cells fix or repair themselves so that the cell survives. When PARP helps cancer cells fix or repair themselves, it means that the cancer cell (and the tumor it is part of) can continue to grow and spread.  Talazoparib is a “PARP inhibitor,” which means it is a drug that can help stop the normal activity of PARP. At the time of this study, talazoparib was an “investigational drug”. An investigational drug means that the treatment has not been approved by the US Food and Drug Administration (FDA), the European Medicines Agency (EMA), or other regulatory agencies. This study was carried out to see if talazoparib could help reduce tumor size and slow growth in people with advanced breast cancer who have inherited mutations in the BRCA1 or BRCA2 genes from a parent.  On 16 October 2018, talazoparib received approval from the FDA for use in some people with breast cancer. While this study was taking place, the sponsor decided it was better to recruit patients into a Phase 3 study that compared talazoparib with usual treatment for breast cancer rather than enroll patients into this study. This study was stopped early on 31 October 2018, and the sponsor transferred patients who were still being treated with talazoparib into another study.     2  WHAT HAPPENED DURING THE STUDY?  All patients in this study received talazoparib. The researchers wanted to find out if a patient’s previous breast cancer treatment could change the way talazoparib was able to treat the tumor. Some patients with cancer are given chemotherapy with drugs containing platinum while others are given chemotherapy with drugs that do not contain platinum. This study included 2 different groups of patients previously treated for breast cancer as shown in the table below. The patients in both of these groups had breast cancer that was advanced and difficult to treat.  Description of Treatment Groups Number of Group Previous Treatment for Breast Cancer Patients Treateda 1 Prior chemotherapy with drugs containing platinum 48b (platinum-based therapy) like cisplatin or carboplatin.  Patients initially responded to treatment, and while the cancer came back, this occurred more than 8 weeks after last dose of platinum-therapy 2 Prior chemotherapy with 3 or more courses of 35 treatment with drugs like docetaxel, paclitaxel, doxorubicin, capecitabine, vinorelbine, or eribulin that are not based on a platinum drug.  Note: Use of a platinum-based therapy before or after surgery was allowed providing the cancer did not return within 6 months of the last platinum dose a 84 patients originally joined this study, but 1 patient left before receiving treatment and only 83 patients were treated with talazoparib b This group originally contained 49 patients as it included the patient who left the study before receiving talazoparib.   The study included patients who: • Were 18 years or older • Had breast cancer that was advanced and not suitable for radiotherapy or surgery or had “metastatic disease”, which is when the cancer has spread to other parts of the body • Inherited the BRCA1 or BRCA2 gene mutation   3    Patients joined the study at 1 of 34 sites in the United States (US), United Kingdom (UK), France, Germany, and Spain. The study began on 13 December 2013 when the first patient had their first visit. All patients were aged between 31 years and 75 years, and nearly all were women. There were 2 men treated in the study, with 1 in each group. There were originally 84 patients who joined the study, but 1 patient left before receiving treatment with talazoparib. A total of 83 patients were treated with talazoparib in this study until their doctor determined their cancer was getting worse, the side effects were too severe, the patient decided they wanted to leave the study, or the study was closed by the Sponsor. The main reason patients treated with talazoparib left the study was because they passed away (81%, or 67 out of the 83 treated patients).   4  As of 01 September 2016 (the data cutoff date for the full report), 10 patients from the group previously treated with platinum-based treatment (21%, or 10 out of the 48 treated patients) and 16 patients from the group previously treated with 3 or more chemotherapy courses with non-platinum drugs (46%, or 16 out of the 35 treated patients) were still in the study but were “off-treatment” and not taking talazoparib.  In addition, 5 patients from the group previously treated with platinum-based treatment (10%, or 5 out of 48 treated patients) and 4 patients from the group previously treated with 3 or more chemotherapy courses with non-platinum drugs (11%, or 4 out of 35 treated patients) were “on-treatment” and taking talazoparib.  These on-treatment patients were followed until 31 October 2018, when the study was closed early by the Sponsor. At the time the study ended, 2 out of these 9 patients were continuing to receive talazoparib treatment. As these 2 patients were benefitting from talazoparib, the Sponsor transferred them into another study so they could continue this treatment.  Data collected up to 01 September 2017 were reviewed by the Sponsor and used to write a report. This is a summary of the information included in the report on how talazoparib was able to treat breast cancer. Data collected up until 31 October 2018, when the Sponsor closed the study, were analyzed in a supplementary safety report.  The main findings of the safety report are summarized in this document. WHAT WERE THE RESULTS OF THE STUDY? Did taking talazoparib help tumors disappear or shrink?  Researchers looked at the “objective response rate,” which is whether tumors disappeared (eg, “complete response”) or shrunk (eg, “partial response”) after taking talazoparib. Overall, 23 patients had a tumor that disappeared or shrunk (28%, or 23 out of the 83 treated patients). This included patients from the group previously treated with platinum-based treatment (21%, or 10 out of the 48 treated patients) and also from the group previously treated with 3 or more chemotherapy courses with non-platinum drugs (37%, or 13 out of the 35 treated patients).    5   Did taking talazoparib help tumors disappear, shrink or stay the same for 24 weeks?  Researcher looked at whether tumors disappeared, shrunk or stayed the same (eg, “stable disease”) for 24 weeks, as this gives researchers an idea of the clinical benefit of talazoparib. Overall, 29 patients had clinical benefit from treatment at 24 weeks (35%, or 29 out of the 83 treated patients). This included patients from the group previously treated with platinum-based treatment (27%, or 13 out of the 48 treated patients) and patients from the group previously treated with 3 or more chemotherapy courses with non-platinum drugs (46%, or 16 out of the 35 treated patients).   How long did patients taking talazoparib continue to respond to this treatment? Researchers measured how long it took for the tumor to come back after it had disappeared and the time it took for the tumor to start to grow again after it had shrunk. The researchers took the results (in the number of months) and put them in order from the smallest to the largest. They then looked at the middle number, or the “median”, to help them answer this question. There was a median of almost 4 months for patients in the group previously treated with platinum-based  6  chemotherapy and a median of almost 6 months for patients in the group previously treated with 3 or more chemotherapy courses with non-platinum drugs.   How long did patients go without their cancer getting any worse after taking talazoparib? Researchers measured how long patients went without their cancer getting any worse after taking talazoparib. There was a median of 4 months for patients in the group previously treated with platinum-based treatment and a median of 6 months for patients in the group previously treated with 3 or more chemotherapy courses with non-platinum drugs.   When researchers looked at the time before patients passed away, this was a median of 12 months for patients in the group previously treated with platinum-based treatment and a median of 17 months for patients in the group previously treated with 3 or more chemotherapy courses with non-platinum drugs. This included data collected up until 01 September 2016. As the sponsor had access to data up to 07 April 2017, they used this to look again at the time before patients passed away.  This date of 07 April 2017 is likely to give a more accurate result. This was a median of 13 months for patients in the group previously treated with platinum-based  7  treatment and a median of 15 months for patients in the group previously treated with 3 or more chemotherapy courses with non-platinum drugs.  Based on these results, the researchers thought talazoparib may be 1 of the options available to doctors who are treating patients with breast cancer who have the BRCA1 or BRCA2 mutation. This includes patients previously treated with platinum-based treatment as well as patients previously treated with 3 or more chemotherapy courses with non-platinum drugs. This does not mean that everyone in this study had these results. Other studies may produce different results as well. These are just some of the main findings of the study, and more information may be available at the websites listed at the end of this summary.  WHAT MEDICAL PROBLEMS DID PATIENTS HAVE DURING THE STUDY? The researchers recorded any medical problems the patients had during the study.  Patients could have had medical problems for reasons not related to the study (for example, caused by an underlying disease or by chance). Or, medical problems could also have been caused by a study treatment, or by another medicine the patient was taking. Sometimes the cause of a medical problem is unknown. By comparing medical problems across many treatment groups in many studies, doctors try to understand what the side effects of an investigational drug might be.    8  A total of 81 out of the 83 treated patients in this study had at least 1 “non-serious” medical problem. A “serious” medical problem is a medical problem that is life threatening, needs hospital care, or cause lasting problems. Overall, 5 patients left the study because of medical problems (6%, or 5 out of the 83 treated patients). This included 4 patients from the group previously treated with platinum-based treatment (8%, 4 out of the 48 treated patients) and 1 patient from the group previously treated with 3 or more chemotherapy courses with non-platinum drugs (3%, 1 out of the 35 treated patients). The most common medical problems experienced by patients in this study are listed in the following table, and these were most often in the digestive system (stomach and intestines), were general like tiredness, or were seen in blood test results. Medical problems were also seen in other areas of the body and affected the heart, eyes, brain, or blood system. While overall more than 1 in 10 patients had some type of problem that affected these areas of the body, none of the individual medical problems in these areas were seen in more than 1 in 10 patients.  Most Common Medical Problems  (Reported by at Least 10% of Patients in Either Group) Previously Treated with 3 or More Prior Platinum-based Chemotherapy Medical Problem Chemotherapy Courses with (48 Patients Treated) Non-platinum Drugs (35 Patients Treated) Feeling tired 29 (60%) 8 (23%) Low red blood cell count 24 (50%) 19 (54%) (anemia) Upset stomach or feeling sick 20 (42%) 15 (43%) Diarrhea or loose stools 18 (38%) 10 (29%) Low platelets (or small bits of 18 (38%) 9 (26%) cells in the blood) Low numbers of neutrophils  10 (21%) 12 (34%) (a type of white blood cell)  9  Previously Treated with 3 or More Prior Platinum-based Chemotherapy Medical Problem Chemotherapy Courses with (48 Patients Treated) Non-platinum Drugs (35 Patients Treated) Headache 9 (19%) 11 (31%) Feeling weak 3 (6%) 10 (29%) Not feeling hungry 12 (25%) 10 (29%) Joint pains 8 (17%) 9 (26%) Being out of breath 11 (23%) 9 (26%) Back pain 12 (25%) 8 (23%) Viral chest infection 11 (23%) 3 (9%) Hair loss (baldness) 11 (23%) 6 (17%) Vomiting or being sick  10 (21%) 8 (23%) Stomach pain 7 (15%) 7 (20%) Cough 9 (19%) 7 (20%) Constipation 9 (19%) 6 (17%) Low numbers of leukocytes (a 7 (15%) 6 (17%) type of white blood cell) Low platelet count  7 (15%) 5 (14%) (from blood test) Low neutrophil count  5 (10%) 5 (14%) (from blood test) Muscle spasms 4 (8%) 5 (14%)   10  WERE THERE ANY SERIOUS MEDICAL PROBLEMS? A total of 69 patients (83%, or 69 out of the 83 treated patients) passed away while in this study, and almost all of these deaths were due to the cancer coming back or getting worse. Other serious medical problems were seen in 16 patients in the group previously treated with prior platinum-based treatment (33%, or 16 out of the 48 treated patients) and 7 patients in the group previously treated with 3 or more chemotherapy courses with non-platinum drugs (20%, or 7 out of the 35 treated patients). These serious medical problems mainly affected the blood (eg, low levels of red blood cells or “platelets” or small bits of cells), the lungs or were because of the  cancer.  WHERE CAN I LEARN MORE ABOUT THIS STUDY? If you have questions about the results of your study, please speak with the doctor or staff at your study site. The full scientific report of this study is available online at: www.clinicaltrials.gov Use the study identifier: NCT02034916 www.clinicaltrialsregister.eu Use the EudraCT number: 2013-003076-12  Please remember that researchers look at the results of many studies to find out which medicines can work and are safe for patients. Again, thank you for volunteering. We do research to try to find the best ways to help patients, and you helped us to do that!   11 \n"
     ]
    }
   ],
   "source": [
    "print(cts_dataset['summary'][0])"
   ]
  },
  {
   "cell_type": "code",
   "execution_count": 9,
   "id": "eb727240",
   "metadata": {},
   "outputs": [],
   "source": [
    "#max_input_length = 3072\n",
    "max_input_length = 4096\n",
    "max_output_length = 1024\n",
    "\n",
    "def longformer_preprocess_func_cts(batch):\n",
    "    # tokenize the inputs and labels\n",
    "    inputs = tokenizer(\n",
    "        batch[\"text\"],\n",
    "        padding=\"max_length\",\n",
    "        truncation=True,\n",
    "        max_length=max_input_length)\n",
    "    \n",
    "    outputs = tokenizer(\n",
    "        batch[\"summary\"],\n",
    "        padding=\"max_length\",\n",
    "        truncation=True,\n",
    "        max_length=max_output_length)\n",
    "\n",
    "    batch[\"input_ids\"] = inputs.input_ids\n",
    "    batch[\"attention_mask\"] = inputs.attention_mask\n",
    "\n",
    "    # create 0 global_attention_mask lists\n",
    "    batch[\"global_attention_mask\"] = len(batch[\"input_ids\"]) * [\n",
    "        [0 for _ in range(len(batch[\"input_ids\"][0]))]\n",
    "    ]\n",
    "\n",
    "    # since above lists are references, the following line changes the 0 index for all samples\n",
    "    batch[\"global_attention_mask\"][0][0] = 1\n",
    "    batch[\"labels\"] = outputs.input_ids\n",
    "\n",
    "    # We have to make sure that the PAD token is ignored\n",
    "    batch[\"labels\"] = [\n",
    "        [-100 if token == tokenizer.pad_token_id else token for token in labels]\n",
    "        for labels in batch[\"labels\"]\n",
    "    ]\n",
    "\n",
    "    return batch"
   ]
  },
  {
   "cell_type": "code",
   "execution_count": 10,
   "id": "6000a789",
   "metadata": {
    "collapsed": true
   },
   "outputs": [
    {
     "data": {
      "application/vnd.jupyter.widget-view+json": {
       "model_id": "b51951dac94847e683cb675cea6475c7",
       "version_major": 2,
       "version_minor": 0
      },
      "text/plain": [
       "  0%|          | 0/1 [00:00<?, ?ba/s]"
      ]
     },
     "metadata": {},
     "output_type": "display_data"
    },
    {
     "data": {
      "text/plain": [
       "'EU Clinical Trials Register Clinical trial results: A Phase 3, Randomized, Double-Blind, Placebo-Controlled Study of the Efficacy and Safety of 2 Doses of Tofacitinib (CP-690,550) or Adalimumab in Subjects With Active Psoriatic Arthritis Summary EudraCT number 2011-003668-55 Trial protocol BE CZ ES SK HU DE PL BG Global end of trial date 18 December 2015 Results information Result version number v1 (current) This version publication date 22 December 2016 First version publication date 22 December 2016 Trial information Trial identification Sponsor protocol code A3921091 Additional study identifiers ISRCTN number - ClinicalTrials.gov id (NCT number) NCT01877668 WHO universal trial number (UTN) - Notes: Sponsors Sponsor organisation name Pfizer, Inc. Sponsor organisation address 235 E 42nd Street, New York, United States, NY 10017 Public contact Pfizer ClinicalTrials.gov Call Center, Pfizer, Inc., 001 800-718- 1021, ClinicalTrials.gov_Inquiries@pfizer.com Scientific contact Pfizer ClinicalTrials.gov Call Center, Pfizer, Inc., 001 800-718- 1021, ClinicalTrials.gov_Inquiries@pfizer.com Notes: Paediatric regulatory details Is trial part of an agreed paediatric No investigation plan (PIP) Does article 45 of REGULATION (EC) No No 1901/2006 apply to this trial? Does article 46 of REGULATION (EC) No No 1901/2006 apply to this trial? Notes: Results analysis stage Analysis stage Final Date of interim/final analysis 18 December 2015 Is this the analysis of the primary Yes Clinical trial results 2011-003668-55 version 1 EU-CTR publication date: 22 December 2016 Page 1 of 65 completion data? Primary completion date 04 December 2015 Global end of trial reached? Yes Global end of trial date 18 December 2015 Was the trial ended prematurely? No Notes: General information about the trial Main objective of the trial: The main objectives of this trail were to compare the efficacy of tofacitinib at doses of 5 mg twice daily (BID) and 10 mg BID versus placebo for the treatment of rheumatological signs and symptoms of psoriatic arthritis (PsA), to compare physical function status, and to compare the safety and tolerability of 2 doses (5 mg BID and 10 mg BID) of tofacitinib versus placebo in participants with active PsA who have had an inadequate response to conventional synthetic disease modifying anti rheumatic drugs. Protection of trial subjects: This study was conducted in compliance with the ethical principles originating in or derived from the Declaration of Helsinki and in compliance with all International Conference on Harmonisation Good Clinical Practice Guidelines. In addition, all local regulatory requirements were followed, in particular, those affording greater protection to the safety of trial participants. The final protocol and any amendments were reviewed and approved by the Institutional Review Board(s) and/or Independent Ethics Committee(s) at each of the investigational centres participating in the study. Background therapy: Eligible participants remained on a stable dose of 1 conventional synthetic disease-modifying anti'"
      ]
     },
     "execution_count": 10,
     "metadata": {},
     "output_type": "execute_result"
    }
   ],
   "source": [
    "tokenized_cts_dataset = cts_dataset.map(longformer_preprocess_func_cts, batched=True)\n",
    "tokenized_cts_dataset.set_format(\n",
    "    type=\"torch\",\n",
    "    columns=[\"input_ids\", \"attention_mask\", \"global_attention_mask\", \"labels\"],\n",
    ")\n",
    "\n",
    "test_size=0.15\n",
    "processed_tokenized_cts_dataset = tokenized_cts_dataset.shuffle(seed=42).train_test_split(test_size=test_size)\n",
    "\n",
    "processed_tokenized_cts_dataset['test'][\"text\"][0][0:3072]"
   ]
  },
  {
   "cell_type": "code",
   "execution_count": null,
   "id": "aa4a6e3b",
   "metadata": {},
   "outputs": [],
   "source": [
    "#os.environ['CUDA_LAUNCH_BLOCKING'] = '1'"
   ]
  },
  {
   "cell_type": "code",
   "execution_count": 11,
   "id": "f5212f49",
   "metadata": {
    "scrolled": true
   },
   "outputs": [
    {
     "data": {
      "text/plain": [
       "DatasetDict({\n",
       "    train: Dataset({\n",
       "        features: ['text', 'summary', 'input_ids', 'attention_mask', 'global_attention_mask', 'labels'],\n",
       "        num_rows: 162\n",
       "    })\n",
       "    test: Dataset({\n",
       "        features: ['text', 'summary', 'input_ids', 'attention_mask', 'global_attention_mask', 'labels'],\n",
       "        num_rows: 29\n",
       "    })\n",
       "})"
      ]
     },
     "execution_count": 11,
     "metadata": {},
     "output_type": "execute_result"
    }
   ],
   "source": [
    "processed_tokenized_cts_dataset"
   ]
  },
  {
   "cell_type": "code",
   "execution_count": 12,
   "id": "f8168227",
   "metadata": {
    "scrolled": false
   },
   "outputs": [
    {
     "data": {
      "text/plain": [
       "['WHY WAS THIS STUDY DONE? Psoriatic arthritis (or “PsA”) is a disease that causes the joints to become swollen, tender, painful, or inflamed. PsA is caused by the body’s immune system, which mistakenly attacks the joints instead of the rest of the body.  Tofacitinib is a medicine that is being studied as a possible treatment for PsA.   : 5 0  0 2 T  : n O    This study was done to learn more about the use of tofacitiniband (also known as CP-690,550 or adalimumab) in people with active PsA, compared to placebo.  1 0   2 - b e The study included adult men and women who: \\uf0b7 Had active psoriatic arthralgia (also called PsA) for at least 3 months \\uf0a7 Were not responding to conventional synthetic disease-modifying \\n anti-rheumatic drugs (ie, methotrexate, sulfasalazine, leflunomide, or others) and were unable to take \\n  : 9 1  : 2 0  3 treated with an active control.  r p p A \\\\ d e v o r p A WHAT HAPPENED DURING THE STUDY?  d e 7 7 1 0 This study compared 3 groups of patients to find out if tofacinib worked better than placebo in treating patients with active \\n PsA who were not responding \\n not \\n responding to \\n 0 : 9 treated with conventional synthetic \\n disease modifying \\n rheumatic \\n drugs. placebo. The active control was an active rheumatoid \\n medicine called adenocarcinogen (adalimumab), which is used to treat psoriasis (inflammation of the joints) in patients \\n with PsA and was not responding well to standard treatment.  9 1 e 7 1 1 0 9 0  2 0 2 0 : 3 r p The active  :  n O participants in this study were assigned to 1 of 3 treatment groups by chance (randomization) and received a placebo to help make \\n the groups more even more similar. The placebo group received placebo tablets twice a day for 2 weeks and the tofacitant \\n group received tofacitiib 5 mg tablets twice daily and subcutaneous placebo for \\n 2 weeks. ']"
      ]
     },
     "execution_count": 12,
     "metadata": {},
     "output_type": "execute_result"
    }
   ],
   "source": [
    "generate_sum(processed_tokenized_cts_dataset['test'][\"text\"][0])"
   ]
  },
  {
   "cell_type": "code",
   "execution_count": 13,
   "id": "a2714007",
   "metadata": {},
   "outputs": [
    {
     "data": {
      "text/plain": [
       "'WHY WAS THIS STUDY DONE? Psoriatic arthritis (also known as “PsA”) is a disease that can cause pain and swelling (inflammation) in or around the joints, tendon areas, fingers, toes, and back, and is often combined with itchy, scaly rashes on the skin. These problems are because the immune system, whose job is to attack foreign invaders like viruses and other germs, mistakenly attacks other parts of the body instead.  If PsA inflammation is left untreated, joints, tendon areas, fingers, and toes may become painful or swollen; skin rashes may occur; and people may become extremely tired. There is no cure for PsA at this time, but common treatments for PsA include medicines that control pain, reduce inflammation, and prevent the immune system from attacking the joints. Tofacitinib is a medicine that may reduce the activity of the immune system. It is an ) oral (taken by mouth) medication used to treat adults with PsA. In this study, T M researchers wanted to learn more about the use of tofacitinib in people who had not G (  been helped by conventional synthetic disease-modifying anti-rheumatic drugs 5 2 7: (csDMARDs) like methotrexate, which were being used to treat PsA.  0  0 2 0 Researchers did this study to find out if tofactinib, when compared to placebo, in 2 - n patients on background therapy of csDMARD, reduced PsA symptoms and improved a J - a patient’s ability to perform physical activities (improved physical functioning).  8 2  Researchers wanted to answer this question:  : n O  d e \\uf0b7 Does tofacitinib help reduce pain, inflammation, and other symptoms caused v o by PsA in patients that were not helped by other drugs (csDMARDs) r p p A previously being used to treat PsA? \\\\ d e v o r p WHAT HAPPENED DURING THE STUDY? p A \\\\ 6 7 1 2 This study compared 5 groups of patients to find out if patients who took tofacitinib 9 a 2 had an improvement in PsA symptoms and physical functioning, compared to 9 1 e patients who took placebo. A placebo does not have any medicine in it, but looks just 7 7 like the medicine being tested. Using a placebo helps researchers learn if the study 1 0 9 0 2 drug works better than no treatment at all. In this study, all patients (including those taking placebo) received 1 csDMARD as background therapy; thus, patients taking placebo did take some medicine in this study. Background therapy is the standard treatment routinely used to treat a disease or condition. In this study, some patients were given adalimumab, which is a medication that is used to treat PsA. Adalimumab is a biologic DMARD (bDMARD) and has been shown to reduce pain and inflammation in patients with PsA.  Researchers also wanted to find out if patients who took adalimumab, an active control, had an improvement in the same symptoms and functioning compared to patients who took placebo. An active control is a drug that is already being used to treat patients with the disease being studied. In this study, the active control was tested against placebo to see if the standard treatment available to patients worked better than no treatment at all. This study included adult men and women who: ) T M G \\uf0b7 Had active psoriatic arthritis for more than 6 months; (  5 2 \\uf0b7 Had active plaque psoriasis (skin lesions) that had been diagnosed or confirmed : 7 0 by a doctor;  0 2 0 \\uf0b7 Had 3 or more swollen joints and 3 or more tender (painful to the touch) 2 - n joints; a J - \\uf0b7 Were not helped by at least 1 csDMARD (like methotrexate) for the treatment 8 2 : of psoriatic arthritis. n O  d e All patients were taking a medication to treat their PsA that was prescribed by their v o r doctors before they entered the study. At the start of the study, these patients p p A continued to take the prescribed medication and were also assigned by chance alone \\\\ d e to receive some combination of tofacitinib, placebo, or adalimumab in 1 of 5 different v o r orders (treatment sequences). This is known as a “randomized” study. This is done p p A to make the groups more similar. Reducing differences between the groups (like age \\\\ 6 7 or the number of men and women), makes the groups more even to compare. 1 2 9 a This trial was also “double-blinded”. This means that patients and doctors did not 2 9 1 know who was given which treatment/medicine. This was done to make sure that the e 7 7 trial results were not influenced in any way. 1 0 9 0 3 The study had two parts: Part 1, which lasted for 3 months; and Part 2, which lasted for 9 months. Some patients received the same treatment in both parts of the study, but some patients received a different treatment in Part 2 than they received in Part 1.  Patients were randomized to receive some combination of tofacitinib, placebo, or adalimumab in 1 of 5 different sequences: Medicines Given in Each Treatment Sequence Treatment Sequence Part 1 (3 months) Part 2 (9 months) Tofacitinib 5 milligrams (mg) tablets A twice a day (BID) plus placebo Same as Part 1 injection once every 2 weeks Tofacitinib 10 mg tablets BID plus B Same as Part 1 placebo injection once every 2weeks Adalimumab injection (40 mg) once ) T M C every 2 weeks plus placebo tablets Same as Part 1 G ( BID  5 2 7: Placebo tablets BID plus placebo Tofacitinib 5 mg BID plus placebo 0 D  injection once every 2 weeks injection once every 2 weeks 0 2 0 2 Placebo tablets BID plus placebo Tofacitinib 10 mg BID plus placebo - E n a injection once every 2 weeks injection once every 2 weeks J - 8 2 All patients were required to receive 1 csDMARD(like methotrexate) during the study.  : n O  Patients were checked (screened) to make sure they were a good fit for the study. A d e v total of 422 patients who met all the study requirements were randomized to receive o r p tofacitinib, placebo, or adalimumab in 1 of 5 different treatment sequences. p A \\\\ d e v o r p p A \\\\ 6 7 1 2 9 a 2 9 1 e 7 7 1 0 9 0 4 ) T M G ( While patients were only in the study for 12 months, the entire study took about  5 2 : 2 years to complete. The Sponsor ran this study at 94 locations in Australia, Canada, 7 0  Mexico, Russian Federation, Taiwan, the United Kingdom, the United States, and 0 2 0 throughout Europe. It began on 20 January 2014 and ended on 18 December 2015.  2 - n A total of 225 women (53%) and 197 men (47%) participated. All patients were a J - between the ages of 18 and 81 years. 8 2  : n O Patients were to be treated for 12 months. Of the 422 patients who started the study,  d e 373 (88%) finished the whole study. A total of 49 patients (12%) left before the study v o r was over by their choice or because a doctor decided it was best for them to stop the p p A study. \\\\ d e v o When the study ended in December 2015, the Sponsor began reviewing the study r p p results. The Sponsor then created a report of the results. This is a summary of that A 6\\\\ report. 7 1 2 9 a 2 9 1 e 7 7 1 0 9 0 5 WHAT WERE THE RESULTS OF THE STUDY? Does tofacitinib reduce joint pain and inflammation in patients who were not helped by csDMARDs (like methotrexate)? Yes. In this study, tofacitinib reduced joint pain and inflammation in patients who were not helped by csDMARDs.  Researchers looked at the percentage of patients (number of patients out of 100) in each treatment group who had at least a 20% reduction in the number of joints that were tender/painful and swollen (inflamed) after 3 months of taking study drug.  They compared the number of tender/painful and swollen joints that patients had at the end of the 3 months of treatment to the number of tender/painful and swollen joints that patients had before they started the study, to see if tofacitinib reduced pain ) T M and inflammation. G (  5 More patients in both tofacitinib groups (5 mg and 10 mg) had less joint pain and 2 : 7 inflammation at the end of 3 months of treatment than patients in the placebo group. 0  0 2 Half of the patients taking 5 mg tofacitinib (50%; 5 out of every 10 patients) and over 0 2 half of the patients taking 10 mg tofacitinib (61%; 6 out of every 10 patients) had less - n a pain and inflammation than they had before they started treatment. One-third (33%) J - 8 2 of the patients taking placebo had a reduction in joint pain and inflammation  : n compared to their pain and inflammation before treatment.  O  d e v o r p p A \\\\ d e v o r p p A \\\\ 6 7 1 2 9 a 2 9 1 e 7 7 1 0 9 0 6 ) T M G (  5 2 : 7 0  0 2 0 2 - n a J - 8 2 Does tofacitinib improve a patient’s ability to complete  : n O activities of daily living?  d e v o r Yes, patients had an easier time completing daily activities after taking tofacitinib. p p A \\\\ d Researchers asked patients how difficult it was to complete daily living activities, such e v o as dressing and grooming, getting up, eating, walking, and bathing. They used a r p p questionnaire that asked patients to rate their level of difficulty completing an activity A \\\\ 6 on a scale ranging from “no difficulty completing activity” (a score of 0) to “unable to 7 1 2 complete activity” (a score of 3). Researchers then compared the patients’ responses 9 a after taking tofacitinib or placebo to their responses before they started study 2 9 1 treatment. e 7 7 1 0 9 0 7 On average, patients who took tofacitinib (5 mg and 10 mg) had a greater improvement in how easy it was to complete daily activities than patients taking placebo. At the end of 3 months of treatment, the questionnaire score (amount of difficulty completing activities) decreased by an average of 0.35 (out of 3) for patients who took tofacitinib 5 mg twice daily, 0.40 (out of 3) for patients who took tofacitinib 10 mg twice daily, and 0.18 (out of 3) for patients who took placebo. Based on these results, the researchers have decided that the results are /are not likely the result of chance. Tofacitinib may be an option for treating patients with PsA who were not previously helped by csDMARDs. This does not mean that everyone in this study had these results. Other studies may produce different results, as well. These are just some of the main findings of the study, and more information may be available at the websites listed at the end of this summary.  ) T WHAT MEDICAL PROBLEMS DID PATIENTS M G ( HAVE DURING THE STUDY? 5 2 : 7 0  0 2 The researchers recorded any medical problems the participants had during the study. 0 2 - Participants could have had medical problems for reasons not related to the study (for n a J example, caused by an underlying disease or by chance). Or, medical problems could - 8 2 also have been caused by a study treatment or by another medicine the participant was  : n O taking. Sometimes the cause of a medical problem is unknown. By comparing  d e medical problems across many treatment groups in many studies, doctors try to v o r understand what the side effects of an experimental drug might be. p p A d\\\\ 175 out of 422 patients (41%) in this study had at least 1 medical problem. A total of e v o 17 patients (4%) left the study because of medical problems. The most common r p p medical problems are listed on the next page.  A \\\\ 6 7  1 2 9 a 2 9 1 e 7 7 1 0 9 0 8 Most Common Medical Problems (Reported by More Than 5% of Patients) Tofacitinib Tofacitinib Adalimumab Placebo, Placebo, 5 mg 10 mg (106 Patients then then (107 Patients (104 Patients Treated) Tofacitinib Tofacitinib Treated) Treated) 5 mg 10 mg Medical (52 Patients (53 Patients Problem Treated Treated) Stomach pain 1 (1%) 1 (1%) 2 (2%) 0 3 (6%) Nausea 3 (3%) 4 (4%) 6 (6%) 0 1 (2%) Common cold 8 (7%) 12 (12%) 11 (10%) 4 (8%) 4 (8%) Sore throat 5 (5%) 6 (6%) 7 (7%) 0 3 (6%) ) Upper T M respiratory tract 10 (9%) 11 (11%) 8 (8%) 5 (10%) 5 (9%) G ( infection  5 2 : 7 Urinary tract 0 2 (2%) 4 (4%) 4 (4%) 1 (2%) 4 (8%)  0 infection 2 0 2 - Alanine n a J aminotransferase 3 (3%) 3 (3%) 8 (8%) 3 (6%) 1 (2%) - 8 2 increased  : n O Aspartate  d e aminotransferase 0 1 (1%) 7 (7%) 1 (2%) 1 (2%) v o r increased p p A \\\\ Blood creatine d e v phosphokinase 5 (5%) 5 (5%) 3 (3%) 1 (2%) 5 (9%) o r p increased p A \\\\ 6 Spinal (back) 3 (3%) 3 (6%) 0 7 2 (2%) 1 (1%) 1 pain 2 9 a 2 Headache 5 (5%) 11 (11%) 7 (7%) 2 (4%) 4 (8%) 9 1 e 7 7 1 0 9 0 9 WERE THERE ANY SERIOUS MEDICAL PROBLEMS? A medical problem is considered “serious” when it is life-threatening, needs hospital care, or causes lasting problems.  28 patients (7%) had serious medical problems. Eight (8) patients (7%) in the tofacitinib 5 mg group, 4 patients (4%) in the tofacitinib 10 mg group, 9 patients (8%) in the adalimumab group, 3 patients (6%) in the placebo→tofacitinib 5 mg group, and 4 patients (8%) in the placebo→tofacitinib 10 mg group had at least 1 serious medical problem. A total of 2 patients (less than 1%) had an injury to the joint, and the other serious medical problems happened in 1 patient each. One (1) patient (1%) in the tofacitinib 10 mg group and 2 patients (4%) in the placebo→tofacitinib 5 mg group had a serious medical problem that study doctors and the Sponsor determined was related to tofacitinib. One (1) patient (1%) in the ) T M tofacitinib 5 mg group had a serious medical problem that the study doctor said was G ( related to tofacitinib, but the Sponsor said was unrelated. One (1) patient (2%) in the  5 2 : placebo→tofacitinib 5 mg group died during the study. The study doctors and 7 0  Sponsor determined that the death was not related to the study medicines.  0 2 0 2 - WHERE CAN I LEARN MORE ABOUT THIS STUDY? n a J - 8 2  If you have questions about the results of your study, please speak with the doctor or : n O staff at your study site.  d e v o The full scientific report of this study is available online at: r p p A \\\\ d www.clinicaltrials.gov Use the study identifier NCT01877668 e v o r www.clinicaltrialsregister.eu Use the study identifier 2011-003668-55 p p A 6\\\\ www.pfizer.com/research/research_ Use the protocol number A3921091 7 1 2 clinical_trials/trial_results 9 a 2 9 1 e 7 7 1 0 9 0 10 Please remember that researchers look at the results of many studies to find out which medicines can work and are safe for patients. Further clinical trials with tofacitinib are planned. Again, thank you for volunteering. We do research to try to find the best ways to help patients, and you helped us to do that! ) T M G (  5 2 : 7 0  0 2 0 2 - n a J - 8 2  : n O  d e v o r p p A \\\\ d e v o r p p A \\\\ 6 7 1 2 9 a 2 9 1 e 7 7 1 0 9 0 11 '"
      ]
     },
     "execution_count": 13,
     "metadata": {},
     "output_type": "execute_result"
    }
   ],
   "source": [
    "processed_tokenized_cts_dataset['test'][\"summary\"][0]"
   ]
  },
  {
   "cell_type": "code",
   "execution_count": 13,
   "id": "5d5b993d",
   "metadata": {},
   "outputs": [
    {
     "data": {
      "text/plain": [
       "['A study to test the combination of tiotropium and olodaterol using the Respimat® inhaler in people with chronic obstructive \\npulmonary disease (COPD) who have different abilities to inhale\\nEudraCT number:2019-001719-21 \\nThis version of the Boehringer Ingelheim Clinical Study Results Announcer (Bemp) Manual \\nlooks at the results of this study.\\nThis is a summary of results from 1clinical study. \\nWe thank all study participants. You helped us toanswer important questions about the study \\nmethods and results.\\nWhat was this study about?\\nThis study was about finding out whether a combination of 2 inhaled medicines \\ntaken together helps people with COPD improve their lung function.\\nParticipants with COPd had difficulty breathing \\nin both directions.\\nWho took part in this study?\\nPeople with COPDONATED with chronic \\nobstructive pulmonary disease could participate in this \\nstudy if they had difficulty in breathing in both the right \\nway and in the left way.\\nparticipants could be in the study for up to 42 weeks.\\nThe participants were divided into 2 groups by age:\\n18-year-old women and men. The participants were \\naged between 20 and 65 years.\\nEach participant used the Respimumimumimumilluminal \\nflow rate (PIFR)detector to measure how much air the \\nairways in the lungs were able to \\nexhale.\\ninhaled.\\n20 September 2020 in the United States, Germany, and \\nthe \\nEurope.\\nGermany.\\nSeptember 2020 in other countries.\\n28% of the participants in the US and\\nwomen\\n41% in other \\neurope.\\nmen.\\nHow was the study done?\\nThe study started in January 2020 and ended in September 2020.The \\nfirst participant left the study on 7 September 2020 and the last participant left on \\n06 November 2020.\\n29% of participants were women.\\n23% ofparticipants were men.The youngest participant was 18 years old and the oldest \\nparticipant was 65 years old.\\n21 October 2021 in the UNITED STATES and Germany.\\n22 October 2021\\nin the  study in  Europe.\\n27 October 2021  in  other countries\\n23 October 2021.\\nIn this summary,']"
      ]
     },
     "execution_count": 13,
     "metadata": {},
     "output_type": "execute_result"
    }
   ],
   "source": [
    "generate_sum(processed_tokenized_cts_dataset['test'][\"text\"][0][0:3072])"
   ]
  },
  {
   "cell_type": "code",
   "execution_count": 14,
   "id": "d9072fce",
   "metadata": {},
   "outputs": [
    {
     "data": {
      "text/plain": [
       "['WHY WAS THIS STUDY DONE? A seizure is a sudden increase in electrical activity in the brain. Seizures can cause many different symptoms, such as shaking, loss of consciousness, or loss of control of body movements. A seizure occurs when the brain loses control of its normal electrical activity and begins to move around too fast or too slowly.  Pregabalin is an experimental drug that is being studied as an add-on treatment for partial onset seizures (positions) in children with epilepsy. Pregaban is used to treat partial onset epilepsy in children and teenagers. The main purpose of this study was to learn more about the use of pregabalin in reducing the frequency of these seizures in children who have never had a seizure before.  WHAT HAPPENED DURING THE STUDY?  This study compared 2 groups of children to find out if a combination of Pregaba - nmentin (also known as no3AX16) and placebo (also called pradaxel®) would reduce the number of seizures in these children compared to placebo. A placebo does not have any medicine in it, but looks just like the medicine being tested.  The study included children who were 1 month old to be less than 4 years old when the study started and who were taking 1 to 3 other antiepileptic drugs for epilepsy.   The children were randomly assigned to 1 of 2 treatment groups by chance (like tossing a coin) and received study medication. The children in the study group received either: \\uf0b7 Pregabo - nement 7 milligrams per kilogram of weight per day (mg/kg per day) for the first 5 days of the study, then 7 mg/kg for the next 5 days, followed by 7 mg, 6 mg, and then 9 days of 3.5 milligram per kg of weight/day for the 1st 5 days and 3.0 mg, 9 days for the 3rd 5th and 9th days for each of the 9th and 10th 9th day for the 7th and 11th day of the 21st day of study. \\uf0b9 Placebo (no active ingredient)   Children in the placebo group received placebo for 21 days. The study started 16 September 2014 and ended 13 March 2018.  Who took part in this study?  Children 1 month to be 1 year old could take part in  this study if they: \\uf077 Were in good health and had']"
      ]
     },
     "execution_count": 14,
     "metadata": {},
     "output_type": "execute_result"
    }
   ],
   "source": [
    "generate_sum(cts_dataset['text'][1])"
   ]
  },
  {
   "cell_type": "code",
   "execution_count": 14,
   "id": "7b45cf93",
   "metadata": {},
   "outputs": [
    {
     "data": {
      "text/plain": [
       "['Some randonneurs have been known to have a tendency to run faster than others in a race.1,2,3,4,5,6,7,8,9,10,11,13,14,15,16,17,17 But what is the most common reason for this?13,18,19,20,21,22,23,24,25,26,27,28,29,30,31,32,33,34,35,36,37,38,39,40,41,43,44,45,46,47,49,50,51,52,53,54,55,56,57,59,60,61,63,64,65,66,67,68,69,70,70-year-old female racemongrels are known for their ability to run fast and high speeds.29, but the most frequent reason they do so is because of their size and weight.30, but it is unknown if this is the case for male racemen.41,42,43-female racemen are known to run much faster than their male counterparts.44,44- female racemen do not run much farther than their counterparts.49,49-male racemen who run farther than they can run alone are not known to do so.50,52-female sprinter racemen can run farther and faster than any other racemen, but they can not run as fast as they can when they are in close proximity to each other.55,52: 53,54-female spimmers run farther in the opposite the direction of travel than any of the other racemangemenangiologists.53, but not the opposite direction.54,54:55,55:56,59: 59:59,61: 62:62,63:65,64: 64:65:65-66: 65,67:68: 68: 69:69, 70: 70:71, 74:72, 75: 74:75, 75,76: 78, and 85:76: 85: Reducing the distance between the front runners and the back runners is the main goal of this study.73,84,85,86,87,88,89,90,100, 100,1010,100:102,000,000-molecule, and 100,000:225,225,350,350-moles.']"
      ]
     },
     "execution_count": 14,
     "metadata": {},
     "output_type": "execute_result"
    }
   ],
   "source": [
    "generate_sum(\"Some randon string just to see what happens.\")"
   ]
  },
  {
   "cell_type": "code",
   "execution_count": 16,
   "id": "8ca38509",
   "metadata": {},
   "outputs": [],
   "source": [
    "import pickle\n",
    "\n",
    "with open('processed_tokenized_cts_dataset.pkl', 'wb') as handle:\n",
    "    pickle.dump(processed_tokenized_cts_dataset, handle, protocol=pickle.HIGHEST_PROTOCOL)\n"
   ]
  },
  {
   "cell_type": "code",
   "execution_count": 15,
   "id": "4abed1a9",
   "metadata": {},
   "outputs": [],
   "source": [
    "import pickle\n",
    "\n",
    "with open('processed_tokenized_cts_dataset.pkl', 'rb') as handle:\n",
    "    processed_tokenized_cts_dataset = pickle.load(handle)\n"
   ]
  }
 ],
 "metadata": {
  "kernelspec": {
   "display_name": "Python 3 (ipykernel)",
   "language": "python",
   "name": "python3"
  },
  "language_info": {
   "codemirror_mode": {
    "name": "ipython",
    "version": 3
   },
   "file_extension": ".py",
   "mimetype": "text/x-python",
   "name": "python",
   "nbconvert_exporter": "python",
   "pygments_lexer": "ipython3",
   "version": "3.9.12"
  }
 },
 "nbformat": 4,
 "nbformat_minor": 5
}
