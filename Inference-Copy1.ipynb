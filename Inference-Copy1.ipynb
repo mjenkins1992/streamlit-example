{
 "cells": [
  {
   "cell_type": "code",
   "execution_count": 1,
   "id": "478af111",
   "metadata": {},
   "outputs": [
    {
     "name": "stderr",
     "output_type": "stream",
     "text": [
      "[nltk_data] Downloading package punkt to /home/ubuntu/nltk_data...\n",
      "[nltk_data]   Package punkt is already up-to-date!\n",
      "[nltk_data] Downloading package wordnet to /home/ubuntu/nltk_data...\n",
      "[nltk_data]   Package wordnet is already up-to-date!\n",
      "[nltk_data] Downloading package omw-1.4 to /home/ubuntu/nltk_data...\n",
      "[nltk_data]   Package omw-1.4 is already up-to-date!\n"
     ]
    }
   ],
   "source": [
    "from sklearn.model_selection import train_test_split\n",
    "from transformers import BertModel, BertConfig, BertTokenizer, AutoTokenizer\n",
    "import datasets\n",
    "from datasets import Dataset\n",
    "import pandas as pd\n",
    "import tensorflow as tf\n",
    "import numpy as np\n",
    "import nltk\n",
    "import nltk.translate.meteor_score as meteor\n",
    "from nltk import word_tokenize\n",
    "nltk.download('punkt')\n",
    "nltk.download('wordnet')\n",
    "nltk.download('omw-1.4')\n",
    "import keras\n",
    "#import wandb\n",
    "import torch\n",
    "from torch.utils.data import TensorDataset, DataLoader\n",
    "import pickle\n",
    "import pdfplumber\n",
    "from transformers import BigBirdPegasusForConditionalGeneration, TFTrainer, TFTrainingArguments, AutoModelForSeq2SeqLM, Seq2SeqTrainingArguments, Seq2SeqTrainer, Trainer, TrainingArguments, BartForConditionalGeneration, DataCollatorForSeq2Seq"
   ]
  },
  {
   "cell_type": "code",
   "execution_count": 2,
   "id": "0e30e1c6",
   "metadata": {},
   "outputs": [],
   "source": [
    "import os\n",
    "os.environ['TF_CPP_MIN_LOG_LEVEL'] = '2'"
   ]
  },
  {
   "cell_type": "code",
   "execution_count": 3,
   "id": "77515e07",
   "metadata": {},
   "outputs": [
    {
     "data": {
      "text/plain": [
       "True"
      ]
     },
     "execution_count": 3,
     "metadata": {},
     "output_type": "execute_result"
    }
   ],
   "source": [
    "torch.cuda\n",
    "torch.cuda.is_available()"
   ]
  },
  {
   "cell_type": "code",
   "execution_count": 4,
   "id": "d3a27d86",
   "metadata": {},
   "outputs": [],
   "source": [
    "# cuda issues with this model\n",
    "#path = \"/home/ubuntu/Documents/OliverVinzelberg/led_large_16384_pubmed_CTS_untouched_blind_bestsofar_3072_1024_2bs_20e\"\n",
    "\n",
    "# this model works\n",
    "path = \"/home/ubuntu/Documents/OliverVinzelberg/led_large_16384_pubmed_CTS_untouched_3072_1024_2bs_20e\"\n",
    "model = AutoModelForSeq2SeqLM.from_pretrained(path, local_files_only=True)\n",
    "model.cuda(1)\n",
    "\n",
    "tokenizer = AutoTokenizer.from_pretrained(path, local_files_only=True)"
   ]
  },
  {
   "cell_type": "code",
   "execution_count": 5,
   "id": "862193ef",
   "metadata": {},
   "outputs": [],
   "source": [
    "def generate_sum(data):\n",
    "    to_pred = tokenizer(data, padding=\"max_length\", max_length=4096, return_tensors=\"pt\", truncation=True)\n",
    "    #to_pred = tokenizer(data, padding=\"max_length\", max_length=3072, return_tensors=\"pt\", truncation=True)\n",
    "    input_ids=to_pred[\"input_ids\"].cuda(1)\n",
    "    attention_mask=to_pred[\"attention_mask\"].cuda(1)\n",
    "    #global attention on special tokens\n",
    "    global_attention_mask = torch.zeros_like(attention_mask)\n",
    "    global_attention_mask[:, 0] = 1\n",
    "    \n",
    "    predicted_ids = model.generate(input_ids, attention_mask=attention_mask, global_attention_mask=global_attention_mask)\n",
    "    \n",
    "    return tokenizer.batch_decode(predicted_ids, skip_special_tokens=True)"
   ]
  },
  {
   "cell_type": "code",
   "execution_count": 6,
   "id": "aeb6f974",
   "metadata": {},
   "outputs": [],
   "source": [
    "inds = ['004', '075', '096', '124', '129', '281', '285', '337', '350', '392', '404', '475', '477']\n",
    "max_input = 4096\n",
    "\n",
    "for i in inds: \n",
    "    file = '/home/ubuntu/streamlit-example/ClinicalTrialSum/TestFiles/'+i+'_in.pdf'\n",
    "    file_in = '/home/ubuntu/streamlit-example/ClinicalTrialSum/TestFiles/'+i+'_in.txt'\n",
    "    file_out = '/home/ubuntu/streamlit-example/ClinicalTrialSum/TestFiles/'+i+'_out.txt'\n",
    "    \n",
    "    text = ''\n",
    "    with pdfplumber.open(file) as pdf:\n",
    "        for page in pdf.pages:\n",
    "            text += page.extract_text()\n",
    "            text += \"\\n\"\n",
    "    \n",
    "    with open(file_in, 'w') as f:\n",
    "        f.write(text)\n",
    "        \n",
    "    raw_text = text\n",
    "    chunked_input = [raw_text[i:i+max_input] for i in range(0, len(raw_text), max_input)]\n",
    "    \n",
    "    output = []\n",
    "    for chunk in range(0, len(chunked_input)):\n",
    "        output.append(generate_sum(chunked_input[chunk]))\n",
    "        \n",
    "    out_str = ''\n",
    "    for block in output:\n",
    "        out_str += ' '+block[0]\n",
    "    \n",
    "    with open(file_out, 'w') as f:\n",
    "        f.write(out_str)"
   ]
  }
 ],
 "metadata": {
  "kernelspec": {
   "display_name": "Python 3 (ipykernel)",
   "language": "python",
   "name": "python3"
  },
  "language_info": {
   "codemirror_mode": {
    "name": "ipython",
    "version": 3
   },
   "file_extension": ".py",
   "mimetype": "text/x-python",
   "name": "python",
   "nbconvert_exporter": "python",
   "pygments_lexer": "ipython3",
   "version": "3.9.12"
  }
 },
 "nbformat": 4,
 "nbformat_minor": 5
}
